{
 "cells": [
  {
   "cell_type": "code",
   "execution_count": null,
   "id": "million-advancement",
   "metadata": {},
   "outputs": [],
   "source": [
    "import course;course.header()"
   ]
  },
  {
   "cell_type": "markdown",
   "id": "attractive-tension",
   "metadata": {},
   "source": [
    "# Create a package around your Protein class - part 2 \n",
    "\n",
    "Write Tests and documentation\n",
    "Send Screen shot :)"
   ]
  },
  {
   "cell_type": "markdown",
   "id": "cross-supply",
   "metadata": {},
   "source": [
    "## Visualize code coverage \n",
    "Visualize the code coverage using pytest-cov for your protein class / module - similar to what is show here for the course module coffeepy."
   ]
  },
  {
   "cell_type": "code",
   "execution_count": null,
   "id": "happy-footage",
   "metadata": {},
   "outputs": [],
   "source": [
    "%cd {course.package_dir}"
   ]
  },
  {
   "cell_type": "code",
   "execution_count": null,
   "id": "dramatic-directive",
   "metadata": {},
   "outputs": [],
   "source": [
    "!pytest --cov-report html --cov=coffeepy tests/ "
   ]
  },
  {
   "cell_type": "code",
   "execution_count": null,
   "id": "superior-directory",
   "metadata": {},
   "outputs": [],
   "source": [
    "!open htmlcov/index.html\n"
   ]
  },
  {
   "cell_type": "code",
   "execution_count": null,
   "id": "perfect-enzyme",
   "metadata": {},
   "outputs": [],
   "source": []
  }
 ],
 "metadata": {
  "kernelspec": {
   "display_name": "Python 3",
   "language": "python",
   "name": "python3"
  },
  "language_info": {
   "codemirror_mode": {
    "name": "ipython",
    "version": 3
   },
   "file_extension": ".py",
   "mimetype": "text/x-python",
   "name": "python",
   "nbconvert_exporter": "python",
   "pygments_lexer": "ipython3",
   "version": "3.8.5"
  }
 },
 "nbformat": 4,
 "nbformat_minor": 5
}
