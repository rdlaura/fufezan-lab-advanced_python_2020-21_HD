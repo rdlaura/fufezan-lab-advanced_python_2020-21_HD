{
 "cells": [
  {
   "cell_type": "code",
   "execution_count": null,
   "metadata": {},
   "outputs": [],
   "source": [
    "import course;course.header()"
   ]
  },
  {
   "cell_type": "code",
   "execution_count": null,
   "metadata": {},
   "outputs": [],
   "source": [
    "course.display_topics(2)"
   ]
  },
  {
   "cell_type": "markdown",
   "metadata": {
    "slideshow": {
     "slide_type": "slide"
    }
   },
   "source": [
    "## Functions\n",
    "Functions are encapsulated code blocks. Useful because:\n",
    "* code is reusable (can be used in different parts of the code or even imported from other scripts)\n",
    "* can be documented \n",
    "* can be tested"
   ]
  },
  {
   "cell_type": "code",
   "execution_count": null,
   "metadata": {},
   "outputs": [],
   "source": [
    "import hashlib\n",
    "def calculate_md5(string):\n",
    "    \"\"\"Calculate the md5 for a given string\n",
    "    \n",
    "    Args:\n",
    "        string (str) string for which the md5 hex digest is calculated. \n",
    "            can be byte of string instance\n",
    "        \n",
    "    Returns:\n",
    "        str: md5 hex digest\n",
    "    \"\"\"\n",
    "    m = hashlib.md5()\n",
    "    if isinstance(string, str):\n",
    "        m.update(string.encode(\"utf-8\"))\n",
    "    elif isinstance(string, bytes):\n",
    "        m.update(string)\n",
    "    else:\n",
    "        raise TypeError(\"This function supports only string input\")\n",
    "    return m.hexdigest()\n",
    "    "
   ]
  },
  {
   "cell_type": "code",
   "execution_count": null,
   "metadata": {},
   "outputs": [],
   "source": [
    "a = \"\"\"\n",
    "The path of the righteous man is beset \n",
    "on all sides by the iniquities of the \n",
    "selfish and the tyranny of evil men.\n",
    "\"\"\"\n",
    "calculate_md5(a)"
   ]
  },
  {
   "cell_type": "code",
   "execution_count": null,
   "metadata": {},
   "outputs": [],
   "source": [
    "b = b\"\"\"\n",
    "The path of the righteous man is beset \n",
    "on all sides by the iniquities of the \n",
    "selfish and the tyranny of evil men.\n",
    "\"\"\"\n",
    "calculate_md5(b)"
   ]
  },
  {
   "cell_type": "markdown",
   "metadata": {},
   "source": [
    "SideNote: Personally, I find googles docstring format the most readable. We will use this format in day 3. Example of google style python docstrings can be found [here](https://www.sphinx-doc.org/en/1.5/ext/example_google.html). If you wonder why we test for byte strings and use encode, please read [this](https://realpython.com/python-encodings-guide/) well written blog post about it."
   ]
  },
  {
   "cell_type": "markdown",
   "metadata": {
    "slideshow": {
     "slide_type": "slide"
    }
   },
   "source": [
    "### Dangerous mistakes using functions\n",
    "What are the outcomes of these lines"
   ]
  },
  {
   "cell_type": "code",
   "execution_count": null,
   "metadata": {},
   "outputs": [],
   "source": [
    "def extend_list_with_three_none(input_list=None):\n",
    "    \"\"\"Extend input_list with 3 * None\n",
    "    \n",
    "    Dangerous are mutable objects! \n",
    "    []\n",
    "    {}\n",
    "    \"\"\"\n",
    "    if input_list is None:\n",
    "        input_list = []\n",
    "    input_list += [None, None, None]\n",
    "    return input_list"
   ]
  },
  {
   "cell_type": "code",
   "execution_count": null,
   "metadata": {},
   "outputs": [],
   "source": [
    "extend_list_with_three_none(input_list=['3', 2 , 1])"
   ]
  },
  {
   "cell_type": "code",
   "execution_count": null,
   "metadata": {},
   "outputs": [],
   "source": [
    "extend_list_with_three_none()"
   ]
  },
  {
   "cell_type": "code",
   "execution_count": null,
   "metadata": {},
   "outputs": [],
   "source": [
    "extend_list_with_three_none()"
   ]
  },
  {
   "cell_type": "code",
   "execution_count": null,
   "metadata": {},
   "outputs": [],
   "source": [
    "extend_list_with_three_none()"
   ]
  },
  {
   "cell_type": "markdown",
   "metadata": {
    "slideshow": {
     "slide_type": "slide"
    }
   },
   "source": [
    "## Setting up functions properly\n",
    "**Never** set default kwargs in functions to mutable objects as they are initialized once, exist until program is stopped and will behave strangly."
   ]
  },
  {
   "cell_type": "code",
   "execution_count": null,
   "metadata": {
    "slideshow": {
     "slide_type": "-"
    }
   },
   "outputs": [],
   "source": [
    "def extend_list_with_three_none_without_bug(input_list = None):\n",
    "    \"\"\"Extend input_list with 3 None\"\"\"\n",
    "    if input_list is None:\n",
    "        input_list = []\n",
    "    input_list += [None, None, None]\n",
    "    return input_list"
   ]
  },
  {
   "cell_type": "code",
   "execution_count": null,
   "metadata": {},
   "outputs": [],
   "source": [
    "extend_list_with_three_none_without_bug(input_list=['3', 2 , 1])"
   ]
  },
  {
   "cell_type": "code",
   "execution_count": null,
   "metadata": {},
   "outputs": [],
   "source": [
    "extend_list_with_three_none_without_bug()"
   ]
  },
  {
   "cell_type": "code",
   "execution_count": null,
   "metadata": {},
   "outputs": [],
   "source": [
    "extend_list_with_three_none_without_bug()"
   ]
  },
  {
   "cell_type": "code",
   "execution_count": null,
   "metadata": {},
   "outputs": [],
   "source": [
    "extend_list_with_three_none_without_bug()"
   ]
  },
  {
   "cell_type": "markdown",
   "metadata": {
    "slideshow": {
     "slide_type": "slide"
    }
   },
   "source": [
    "## scopes: local & global "
   ]
  },
  {
   "cell_type": "code",
   "execution_count": null,
   "metadata": {},
   "outputs": [],
   "source": [
    "counter = 0 # global\n",
    "def increase_counter():\n",
    "    counter += 10 # local\n",
    "    return counter"
   ]
  },
  {
   "cell_type": "code",
   "execution_count": null,
   "metadata": {},
   "outputs": [],
   "source": [
    "increase_counter()"
   ]
  },
  {
   "cell_type": "code",
   "execution_count": null,
   "metadata": {},
   "outputs": [],
   "source": [
    "counter = 0\n",
    "def increase_counter(counter):\n",
    "    counter += 10\n",
    "    return"
   ]
  },
  {
   "cell_type": "code",
   "execution_count": null,
   "metadata": {},
   "outputs": [],
   "source": [
    "counter = increase_counter(counter)\n",
    "counter"
   ]
  },
  {
   "cell_type": "code",
   "execution_count": null,
   "metadata": {},
   "outputs": [],
   "source": [
    "counter = 0\n",
    "def increase_counter(counter):\n",
    "    counter += 10\n",
    "    return counter # or directly return counter += 10\n"
   ]
  },
  {
   "cell_type": "code",
   "execution_count": null,
   "metadata": {},
   "outputs": [],
   "source": [
    "counter = increase_counter(counter)\n",
    "counter"
   ]
  },
  {
   "cell_type": "markdown",
   "metadata": {
    "slideshow": {
     "slide_type": "slide"
    }
   },
   "source": [
    "If unsure avoid using global all together!\n",
    "Advantages:\n",
    "* variable can be overwritten in functions without changing code else where unexpectedly\n",
    "* code becomes very readble\n"
   ]
  },
  {
   "cell_type": "markdown",
   "metadata": {},
   "source": [
    "If you need global (and please avoid using them) ..."
   ]
  },
  {
   "cell_type": "code",
   "execution_count": null,
   "metadata": {},
   "outputs": [],
   "source": [
    "counter = 0\n",
    "def increase_counter():\n",
    "    \"\"\"Ugly!\"\"\"\n",
    "    global counter\n",
    "    counter += 10\n",
    "    return"
   ]
  },
  {
   "cell_type": "code",
   "execution_count": null,
   "metadata": {},
   "outputs": [],
   "source": [
    "increase_counter()\n",
    "counter"
   ]
  },
  {
   "cell_type": "markdown",
   "metadata": {},
   "source": [
    "Biggest danger is counter in the global name space can be overwritten by any routin, hence if you really need to use them (please dont!!) then use namespaces"
   ]
  },
  {
   "cell_type": "code",
   "execution_count": null,
   "metadata": {},
   "outputs": [],
   "source": [
    "import course"
   ]
  },
  {
   "cell_type": "code",
   "execution_count": null,
   "metadata": {},
   "outputs": [],
   "source": [
    "course.student_counter = 0\n"
   ]
  },
  {
   "cell_type": "code",
   "execution_count": null,
   "metadata": {},
   "outputs": [],
   "source": [
    "def increase_counter():\n",
    "    \"\"\"Still Ugly as not very explicit\"\"\"\n",
    "    course.student_counter += 10\n",
    "    return"
   ]
  },
  {
   "cell_type": "code",
   "execution_count": null,
   "metadata": {},
   "outputs": [],
   "source": [
    "increase_counter()\n",
    "course.student_counter"
   ]
  },
  {
   "cell_type": "markdown",
   "metadata": {
    "slideshow": {
     "slide_type": "slide"
    }
   },
   "source": [
    "## Changing object during iteration\n",
    "this is also a common mistake using other modules e.g. pandas "
   ]
  },
  {
   "cell_type": "code",
   "execution_count": null,
   "metadata": {},
   "outputs": [],
   "source": [
    "students = [\n",
    "    \"Anne\",\n",
    "    \"Ben\",\n",
    "    \"Chris\",\n",
    "    \"Don\",\n",
    "    \"Charles\"\n",
    "]"
   ]
  },
  {
   "cell_type": "code",
   "execution_count": null,
   "metadata": {},
   "outputs": [],
   "source": [
    "for student in students:\n",
    "    student = student + \" - 5th semster!\""
   ]
  },
  {
   "cell_type": "code",
   "execution_count": null,
   "metadata": {},
   "outputs": [],
   "source": [
    "students"
   ]
  },
  {
   "cell_type": "markdown",
   "metadata": {},
   "source": [
    "How to change the list?"
   ]
  },
  {
   "cell_type": "code",
   "execution_count": null,
   "metadata": {},
   "outputs": [],
   "source": [
    "for pos, student in enumerate(students):\n",
    "    students[pos] = student + \" - 5th semster!\"\n",
    "students"
   ]
  },
  {
   "cell_type": "code",
   "execution_count": null,
   "metadata": {},
   "outputs": [],
   "source": [
    "students = [\n",
    "    \"Anne\",\n",
    "    \"Ben\",\n",
    "    \"Chris\",\n",
    "    \"Don\",\n",
    "    \"Charles\"\n",
    "]\n",
    "students"
   ]
  },
  {
   "cell_type": "code",
   "execution_count": null,
   "metadata": {},
   "outputs": [],
   "source": [
    "for pos, student in enumerate(students):\n",
    "    if student[0] == \"C\":\n",
    "#     if student.startswith(\"C\") is True:\n",
    "        students.pop(pos)"
   ]
  },
  {
   "cell_type": "code",
   "execution_count": null,
   "metadata": {},
   "outputs": [],
   "source": [
    "students"
   ]
  },
  {
   "cell_type": "markdown",
   "metadata": {
    "slideshow": {
     "slide_type": "subslide"
    }
   },
   "source": [
    "How to delete all students starting with \"C\"?"
   ]
  },
  {
   "cell_type": "code",
   "execution_count": null,
   "metadata": {},
   "outputs": [],
   "source": [
    "\n",
    "for pos, student in enumerate(students):\n",
    "    if student[0] == \"C\":\n",
    "#     if student.startswith(\"C\") is True:\n",
    "        students.pop(pos)"
   ]
  },
  {
   "cell_type": "code",
   "execution_count": null,
   "metadata": {},
   "outputs": [],
   "source": []
  },
  {
   "cell_type": "code",
   "execution_count": null,
   "metadata": {},
   "outputs": [],
   "source": []
  },
  {
   "cell_type": "code",
   "execution_count": null,
   "metadata": {
    "slideshow": {
     "slide_type": "subslide"
    }
   },
   "outputs": [],
   "source": [
    "to_be_dropped = []\n",
    "for pos, student in enumerate(students):\n",
    "    if student.startswith(\"C\"):\n",
    "        to_be_dropped.append(pos)\n",
    "\n",
    "display(to_be_dropped)\n",
    "for pos in sorted(to_be_dropped, reverse=True):\n",
    "    students.pop(pos)\n",
    "students"
   ]
  },
  {
   "cell_type": "code",
   "execution_count": null,
   "metadata": {
    "slideshow": {
     "slide_type": "subslide"
    }
   },
   "outputs": [],
   "source": [
    "to_be_dropped = set()\n",
    "for student in students:\n",
    "    if student.startswith(\"C\"):\n",
    "        to_be_dropped.add(student)\n",
    "\n",
    "display(set(students) - to_be_dropped)"
   ]
  },
  {
   "cell_type": "markdown",
   "metadata": {
    "slideshow": {
     "slide_type": "slide"
    }
   },
   "source": [
    "\n",
    "# Zen of Python"
   ]
  },
  {
   "cell_type": "code",
   "execution_count": null,
   "metadata": {},
   "outputs": [],
   "source": [
    "import this"
   ]
  },
  {
   "cell_type": "markdown",
   "metadata": {
    "slideshow": {
     "slide_type": "subslide"
    }
   },
   "source": [
    "## my two ¢\n",
    "\n",
    "* Readability is most important\n",
    "    * think hard about variable names!\n",
    "    * avoid using comments! if you need comments your code is not readable!\n",
    "* be explicit! Seriously - nothing happens under the hood!!\n",
    "* name convention counts - use PEP - define a style - use black!\n",
    "* each function should do one thing and one thing only (exceptions when performance is low)\n",
    "* function should start with a verb\n",
    "* always code in interfaces\n",
    "* use test driven development\n",
    "* have tests for each function - and use readable test cases\n",
    "* setup CI - if you can and need even CD!\n",
    "* break down code into modules / packages - everything longer than 200 lines of code is hard to follow.\n",
    "* don't over engineer - \\<my_module\\>.exceptions.FloatTypeNotInRangError vs TypeError\n",
    "* optimize performance when you cannot kill it with € - don't optimize until late in the process\n"
   ]
  },
  {
   "cell_type": "markdown",
   "metadata": {
    "slideshow": {
     "slide_type": "subslide"
    }
   },
   "source": [
    "## https://en.wikipedia.org/wiki/John_Carmack\n",
    "\n",
    "<img src=\"https://upload.wikimedia.org/wikipedia/commons/4/4e/John_Carmack_at_GDCA_2017_--_1_March_2017_%28cropped%29.jpeg\" />"
   ]
  },
  {
   "cell_type": "markdown",
   "metadata": {
    "slideshow": {
     "slide_type": "slide"
    }
   },
   "source": [
    "# Readable code"
   ]
  },
  {
   "cell_type": "code",
   "execution_count": null,
   "metadata": {},
   "outputs": [],
   "source": [
    "stuff = {\"freiburg\" : {\"kitchens\": [1, 2, 3, 4], \"offices\": [3, 4, 5, 6]},\"heidelberg\": {\n",
    "    \"kitchens\": [1, 2, 3, 4], \"offices\": [33, 7, 5, 8]},\n",
    "         \"muenster\": {\"kitchens\": [1, 2, 3, 4],\"offices\": [2, 4, 5, 5]}}\n",
    "theotherstuff = [\"offices\"]\n",
    "theotherstvff = [7]\n",
    "for k in stuff:\n",
    "    for l, m in stuff[k].items():\n",
    "        if l in theotherstuff:\n",
    "            for n in m:\n",
    "                if n in theotherstvff:\n",
    "                    print(\"Yea!\")"
   ]
  },
  {
   "cell_type": "markdown",
   "metadata": {},
   "source": [
    "## rewrite!\n"
   ]
  },
  {
   "cell_type": "code",
   "execution_count": null,
   "metadata": {},
   "outputs": [],
   "source": [
    "cities = {\"freiburg\" : {\"kitchens\": [1, 2, 3, 4], \"offices\": [3, 4, 5, 6]},\"heidelberg\": {\n",
    "    \"kitchens\": [1, 2, 3, 4], \"offices\": [33, 7, 5, 8]},\n",
    "         \"muenster\": {\"kitchens\": [1, 2, 3, 4],\"offices\": [2, 4, 5, 5]}}\n",
    "rooms_to_investigate = [\"offices\"]\n",
    "target_room_ids = [7]\n",
    "\n",
    "for city in cities.keys():\n",
    "    for room_type, id_list in cities[city].items():\n",
    "        if room_type in rooms_to_investigate:\n",
    "            for room_id in id_list:\n",
    "                if room_id in target_room_ids:\n",
    "                    print(\"Yea!\")"
   ]
  },
  {
   "cell_type": "code",
   "execution_count": null,
   "metadata": {
    "slideshow": {
     "slide_type": "subslide"
    }
   },
   "outputs": [],
   "source": [
    "stuff = {\n",
    "    \"freiburg\" : {\n",
    "        \"kitchens\": [1, 2, 3, 4], \n",
    "        \"offices\": [3, 4, 5, 6],\n",
    "    },\n",
    "    \"heidelberg\": {\n",
    "        \"kitchens\": [1, 2, 3, 4], \n",
    "        \"offices\": [33, 7, 5, 8],\n",
    "    },\n",
    "    \"muenster\": {\n",
    "        \"kitchens\": [1, 2, 3, 4],\n",
    "        \"offices\": [2, 4, 5, 5]\n",
    "    }\n",
    "}\n",
    "target_rooms = [\"offices\"]\n",
    "target_ids = [7]\n",
    "for city in stuff.keys():\n",
    "    for room, id_list in stuff[city].items():\n",
    "        if room in target_rooms:\n",
    "            for _id in id_list:\n",
    "                if _id in target_ids:\n",
    "                    print(\"Yea!\")"
   ]
  }
 ],
 "metadata": {
  "celltoolbar": "Slideshow",
  "kernelspec": {
   "display_name": "Python 3",
   "language": "python",
   "name": "python3"
  },
  "language_info": {
   "codemirror_mode": {
    "name": "ipython",
    "version": 3
   },
   "file_extension": ".py",
   "mimetype": "text/x-python",
   "name": "python",
   "nbconvert_exporter": "python",
   "pygments_lexer": "ipython3",
   "version": "3.9.1"
  }
 },
 "nbformat": 4,
 "nbformat_minor": 2
}
