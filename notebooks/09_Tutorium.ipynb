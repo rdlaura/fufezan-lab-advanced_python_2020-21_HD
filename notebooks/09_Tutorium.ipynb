{
 "cells": [
  {
   "cell_type": "code",
   "execution_count": null,
   "metadata": {
    "slideshow": {
     "slide_type": "slide"
    }
   },
   "outputs": [],
   "source": [
    "import course;course.header()"
   ]
  },
  {
   "cell_type": "markdown",
   "metadata": {
    "slideshow": {
     "slide_type": "slide"
    }
   },
   "source": [
    "\n",
    "# Tutorium"
   ]
  },
  {
   "cell_type": "markdown",
   "metadata": {
    "slideshow": {
     "slide_type": "slide"
    }
   },
   "source": [
    "## Recap "
   ]
  },
  {
   "cell_type": "code",
   "execution_count": null,
   "metadata": {},
   "outputs": [],
   "source": [
    "a = 34 + 3.2\n",
    "type(a)"
   ]
  },
  {
   "cell_type": "code",
   "execution_count": null,
   "metadata": {},
   "outputs": [],
   "source": [
    "a = \"Never odd\" + \" or even\"\n",
    "a[::-1]"
   ]
  },
  {
   "cell_type": "code",
   "execution_count": null,
   "metadata": {},
   "outputs": [],
   "source": [
    "a[0] = 'n'"
   ]
  },
  {
   "cell_type": "code",
   "execution_count": null,
   "metadata": {},
   "outputs": [],
   "source": [
    "a.split()"
   ]
  },
  {
   "cell_type": "code",
   "execution_count": null,
   "metadata": {},
   "outputs": [],
   "source": [
    "{ (12,32): \"Well done ... \"}"
   ]
  },
  {
   "cell_type": "code",
   "execution_count": null,
   "metadata": {},
   "outputs": [],
   "source": [
    "set([12, 13, 14]) & set([13, 14, 15])"
   ]
  },
  {
   "cell_type": "markdown",
   "metadata": {
    "slideshow": {
     "slide_type": "slide"
    }
   },
   "source": [
    "## Evaluation to True vs \"real\" True"
   ]
  },
  {
   "cell_type": "code",
   "execution_count": null,
   "metadata": {
    "slideshow": {
     "slide_type": "-"
    }
   },
   "outputs": [],
   "source": [
    "# thinking that objects eval to the same ensures equality is one major source of errors\n",
    "def release_password(authentication=False):\n",
    "    answer = \"Not authenticated\"\n",
    "    if authentication:\n",
    "        answer = \"Here is your pasword\"\n",
    "    return answer"
   ]
  },
  {
   "cell_type": "code",
   "execution_count": null,
   "metadata": {},
   "outputs": [],
   "source": [
    "release_password(authentication=True)"
   ]
  },
  {
   "cell_type": "code",
   "execution_count": null,
   "metadata": {},
   "outputs": [],
   "source": [
    "release_password(authentication=[1])"
   ]
  },
  {
   "cell_type": "code",
   "execution_count": null,
   "metadata": {},
   "outputs": [],
   "source": [
    "bool([1]) == True"
   ]
  },
  {
   "cell_type": "code",
   "execution_count": null,
   "metadata": {},
   "outputs": [],
   "source": [
    "release_password(authentication=[])"
   ]
  },
  {
   "cell_type": "markdown",
   "metadata": {
    "slideshow": {
     "slide_type": "slide"
    }
   },
   "source": [
    "## Dangerous mistakes using functions"
   ]
  },
  {
   "cell_type": "code",
   "execution_count": null,
   "metadata": {},
   "outputs": [],
   "source": [
    "def extend_list_with_three_none(input_list=[]):\n",
    "    \"\"\"Extend input_list with 3 * None\"\"\"\n",
    "    input_list += [None, None, None]\n",
    "    return input_list"
   ]
  },
  {
   "cell_type": "code",
   "execution_count": null,
   "metadata": {},
   "outputs": [],
   "source": [
    "extend_list_with_three_none()"
   ]
  },
  {
   "cell_type": "code",
   "execution_count": null,
   "metadata": {},
   "outputs": [],
   "source": [
    "extend_list_with_three_none()"
   ]
  },
  {
   "cell_type": "code",
   "execution_count": null,
   "metadata": {
    "slideshow": {
     "slide_type": "slide"
    }
   },
   "outputs": [],
   "source": [
    "def extend_list_with_three_none(input_list=None):\n",
    "    \"\"\"Extend input_list with 3 * None\"\"\"\n",
    "    if input_list is None:\n",
    "        input_list = list()\n",
    "    input_list += [None, None, None]\n",
    "    return input_list"
   ]
  },
  {
   "cell_type": "markdown",
   "metadata": {
    "slideshow": {
     "slide_type": "slide"
    }
   },
   "source": [
    "## Readability counts!"
   ]
  },
  {
   "cell_type": "code",
   "execution_count": null,
   "metadata": {
    "slideshow": {
     "slide_type": "slide"
    }
   },
   "outputs": [],
   "source": [
    "a = {\n",
    "    \"Heidelberg\": {\n",
    "        \"Office\": [12, 13, 14], \n",
    "        \"Conference Room\": [15, 16, 18], \n",
    "        \"Hallway\": [22, 24, 26]\n",
    "    },\n",
    "    \"Münster\": {\n",
    "        \"Office\": [30, 31, 32], \n",
    "        \"Conference Room\": [33, 34]\n",
    "    },\n",
    "    \"New York\": {\n",
    "        \"Office\": [40, 42], \n",
    "        \"Conference Room\": [44], \n",
    "        \"Rooftop\": [45, 47, 48]\n",
    "    },\n",
    "    \"Paris\": {\n",
    "        \"Office\": [51, 55], \n",
    "        \"Conference Room\": [57], \n",
    "        \"Hallway\": [58,60]\n",
    "    },\n",
    "}"
   ]
  },
  {
   "cell_type": "code",
   "execution_count": null,
   "metadata": {},
   "outputs": [],
   "source": [
    "u = [15, 16, 31, 47, 60]\n",
    "v = [\"Office\", \"Conference Room\", \"Hallway\"]\n",
    "for k in a:\n",
    "    for m, vv in a[k].items():\n",
    "        if m in v:\n",
    "            for i in vv:\n",
    "                if i in u:\n",
    "                    print(\"Found id in:\", k, m, i)"
   ]
  },
  {
   "cell_type": "code",
   "execution_count": null,
   "metadata": {
    "slideshow": {
     "slide_type": "subslide"
    }
   },
   "outputs": [],
   "source": [
    "u = [15, 16, 31, 47, 60]\n",
    "v = [\"Office\", \"Conference Room\", \"Hallway\"]\n",
    "for city in a:\n",
    "    for room_type, ids in a[city].items():\n",
    "        if room_type in v:\n",
    "            for _id in ids:\n",
    "                if _id in u:\n",
    "                    print(\"Found id in:\", city, room_type, _id)"
   ]
  },
  {
   "cell_type": "markdown",
   "metadata": {
    "slideshow": {
     "slide_type": "slide"
    }
   },
   "source": [
    "## TDD \n",
    "\n",
    "### Name two advantages of TDD ...\n",
    "### What's the first steps\n",
    "\n",
    "Test driven development comes in three blocks.\n",
    "<img style=\"right\" src=\"./imgs/tdd_explained.png\" width=700>\n",
    "a) you start thinking about what you want to code, write a test that will fail and then start writing the code to make the test pass. At this stage you have a working prototype and leave the first block (blue dotted line)\n",
    "\n",
    "b) you will write more tests coverig forseeable corner cases. If the test fail you adjust your code. After the tests pass you will leave the second block behing having a real product with test. \n",
    "\n",
    "c) Finally you start refactoring your code into the bigger picture. The tests will give you confidence that nothing breaks while you refactor. This step becomes essential when you tackle a similar problem or consolidate fuctionality in your core package. At this stage you leave the third block. "
   ]
  },
  {
   "cell_type": "code",
   "execution_count": null,
   "metadata": {
    "slideshow": {
     "slide_type": "slide"
    }
   },
   "outputs": [],
   "source": [
    "import pandas as pd\n",
    "df = pd.read_csv(\"../data/amino_acid_properties.csv\")\n",
    "df = df[\n",
    "    [\n",
    "        'Name', \n",
    "        '1-letter code', \n",
    "        'Residue Weight'\n",
    "    ]\n",
    "].sort_values(\n",
    "    \"Residue Weight\"\n",
    ").reset_index(\n",
    "    drop=True\n",
    ").head(7)\n",
    "df = df.rename(columns={\"Residue Weight\": \"Residue_weight\"})"
   ]
  },
  {
   "cell_type": "code",
   "execution_count": null,
   "metadata": {},
   "outputs": [],
   "source": [
    "df"
   ]
  },
  {
   "cell_type": "code",
   "execution_count": null,
   "metadata": {},
   "outputs": [],
   "source": [
    "df.shape"
   ]
  },
  {
   "cell_type": "markdown",
   "metadata": {},
   "source": [
    "What's the result of the following query, how does df2 look like?"
   ]
  },
  {
   "cell_type": "code",
   "execution_count": null,
   "metadata": {},
   "outputs": [],
   "source": [
    "df2 = df.query(\"90 < Residue_weight < 100\")\n",
    "df2"
   ]
  },
  {
   "cell_type": "markdown",
   "metadata": {},
   "source": [
    "How to rewrite that using the syntax `df2 = df[(df['Residue_weight'] ...`"
   ]
  },
  {
   "cell_type": "code",
   "execution_count": null,
   "metadata": {},
   "outputs": [],
   "source": [
    "mask = (df['Residue_weight'] > 90) & (df['Residue_weight'] < 100)\n",
    "df2 = df[mask]\n",
    "df2"
   ]
  },
  {
   "cell_type": "markdown",
   "metadata": {},
   "source": [
    "How to access the first row of df2?"
   ]
  },
  {
   "cell_type": "code",
   "execution_count": null,
   "metadata": {},
   "outputs": [],
   "source": [
    "df2.iloc[0]"
   ]
  },
  {
   "cell_type": "markdown",
   "metadata": {},
   "source": [
    "What's the results of  `df2.loc[0, \"Name\"]`?"
   ]
  },
  {
   "cell_type": "code",
   "execution_count": null,
   "metadata": {},
   "outputs": [],
   "source": [
    "df.loc[0, \"Name\"]"
   ]
  },
  {
   "cell_type": "code",
   "execution_count": null,
   "metadata": {},
   "outputs": [],
   "source": [
    "df.loc[0, \"Name\"] = \"GLYCINE\""
   ]
  },
  {
   "cell_type": "code",
   "execution_count": null,
   "metadata": {},
   "outputs": [],
   "source": [
    "df.head()"
   ]
  },
  {
   "cell_type": "code",
   "execution_count": null,
   "metadata": {},
   "outputs": [],
   "source": [
    "df3 = df.query(\"90 < Residue_weight < 100\")\n",
    "df3.reset_index(drop=True, inplace=True)"
   ]
  },
  {
   "cell_type": "code",
   "execution_count": null,
   "metadata": {},
   "outputs": [],
   "source": [
    "df3"
   ]
  },
  {
   "cell_type": "code",
   "execution_count": null,
   "metadata": {},
   "outputs": [],
   "source": [
    "df3 = df.query(\"90 < Residue_weight < 100\").copy(deep=True).reset_index(drop=True)"
   ]
  },
  {
   "cell_type": "code",
   "execution_count": null,
   "metadata": {},
   "outputs": [],
   "source": [
    "df3"
   ]
  },
  {
   "cell_type": "code",
   "execution_count": null,
   "metadata": {},
   "outputs": [],
   "source": [
    "df = pd.DataFrame([\n",
    "    {'d': '11/1/2000'},\n",
    "    {'d': '1/12/2000'},\n",
    "    {'d': '1/12/2000'},\n",
    "    {'d': '13/1/2000'},\n",
    "])"
   ]
  },
  {
   "cell_type": "code",
   "execution_count": null,
   "metadata": {},
   "outputs": [],
   "source": [
    "df"
   ]
  },
  {
   "cell_type": "code",
   "execution_count": null,
   "metadata": {},
   "outputs": [],
   "source": [
    "df['dt'] = pd.to_datetime(df['d'], format='%d/%m/%Y', errors='raise')"
   ]
  },
  {
   "cell_type": "code",
   "execution_count": null,
   "metadata": {},
   "outputs": [],
   "source": [
    "df"
   ]
  },
  {
   "cell_type": "code",
   "execution_count": null,
   "metadata": {},
   "outputs": [],
   "source": [
    "df['dt'].dt.day"
   ]
  },
  {
   "cell_type": "code",
   "execution_count": null,
   "metadata": {},
   "outputs": [],
   "source": []
  }
 ],
 "metadata": {
  "celltoolbar": "Slideshow",
  "kernelspec": {
   "display_name": "Python 3",
   "language": "python",
   "name": "python3"
  },
  "language_info": {
   "codemirror_mode": {
    "name": "ipython",
    "version": 3
   },
   "file_extension": ".py",
   "mimetype": "text/x-python",
   "name": "python",
   "nbconvert_exporter": "python",
   "pygments_lexer": "ipython3",
   "version": "3.8.5"
  }
 },
 "nbformat": 4,
 "nbformat_minor": 2
}
