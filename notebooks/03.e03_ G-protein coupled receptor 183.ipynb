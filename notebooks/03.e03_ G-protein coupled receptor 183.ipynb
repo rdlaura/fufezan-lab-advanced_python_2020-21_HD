{
 "cells": [
  {
   "cell_type": "code",
   "execution_count": null,
   "id": "million-advancement",
   "metadata": {},
   "outputs": [],
   "source": [
    "import course;course.header()"
   ]
  },
  {
   "cell_type": "markdown",
   "id": "quick-microwave",
   "metadata": {},
   "source": [
    "## A) get data\n",
    "go to uniprot and download the fasta protein sequence for \"G-protein coupled receptor 183\" - aka \"P32249\""
   ]
  },
  {
   "cell_type": "markdown",
   "id": "coated-instrumentation",
   "metadata": {},
   "source": [
    "## B) Transfor the data\n",
    "* Create a function that rturns a hydropathy value list corresponding to the sequence. \n",
    "* The function should accept a sequence and a mapping_dict as kwarg.\n",
    "* The mapping dict can, e.g. be the hydropathy lookup {\"A\" : <hp_value>, ...}"
   ]
  },
  {
   "cell_type": "markdown",
   "id": "committed-publication",
   "metadata": {},
   "source": [
    "## C) Plot\n",
    "* Plot the hydropathy list using plotly\n",
    "* add title, x-axis names etc"
   ]
  },
  {
   "cell_type": "markdown",
   "id": "ignored-invalid",
   "metadata": {},
   "source": [
    "## D) Sliding window\n",
    "* Extend the function from B) so it returns a hdyrophathy list based on a sliding window\n",
    "* The list values should reflect the average hydropathy value in a sliding window.\n",
    "* The function should accept the length of the sliding window as a kwarg.\n"
   ]
  },
  {
   "cell_type": "markdown",
   "id": "hollow-banks",
   "metadata": {},
   "source": [
    "## E) What do you observe?\n",
    "Describe the pattern you see. What could be the reason for the pattern?"
   ]
  },
  {
   "cell_type": "markdown",
   "id": "amazing-sweden",
   "metadata": {},
   "source": [
    "# Optional"
   ]
  },
  {
   "cell_type": "markdown",
   "id": "beautiful-sucking",
   "metadata": {},
   "source": [
    "### Retrieve sequence programmatically\n",
    "* Write a function that takes the uniprot identifier as kwarg and returns the sequence using\n",
    "    * the buffered sequence from e2\n",
    "    * using urllib\n",
    "    * using an alternive?\n",
    "\n",
    "### Plot annotations into the hydropathy plot\n",
    "* Plot protein topology features into the same plot \n"
   ]
  },
  {
   "cell_type": "code",
   "execution_count": null,
   "id": "distinguished-better",
   "metadata": {},
   "outputs": [],
   "source": []
  }
 ],
 "metadata": {
  "kernelspec": {
   "display_name": "Python 3",
   "language": "python",
   "name": "python3"
  },
  "language_info": {
   "codemirror_mode": {
    "name": "ipython",
    "version": 3
   },
   "file_extension": ".py",
   "mimetype": "text/x-python",
   "name": "python",
   "nbconvert_exporter": "python",
   "pygments_lexer": "ipython3",
   "version": "3.8.5"
  }
 },
 "nbformat": 4,
 "nbformat_minor": 5
}
