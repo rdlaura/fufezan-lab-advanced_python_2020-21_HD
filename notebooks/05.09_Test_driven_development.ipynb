{
 "cells": [
  {
   "cell_type": "code",
   "execution_count": null,
   "metadata": {
    "slideshow": {
     "slide_type": "slide"
    }
   },
   "outputs": [],
   "source": [
    "import course;course.header()"
   ]
  },
  {
   "cell_type": "code",
   "execution_count": null,
   "metadata": {},
   "outputs": [],
   "source": [
    "course.display_topics(day=5)"
   ]
  },
  {
   "cell_type": "markdown",
   "metadata": {
    "slideshow": {
     "slide_type": "slide"
    }
   },
   "source": [
    "# Test Driven Development\n",
    "\n",
    "## You all are already do some part of test driven development!\n",
    "\n",
    "<img style=\"right\" src=\"./imgs/tdd_already.jpg\">"
   ]
  },
  {
   "cell_type": "markdown",
   "metadata": {
    "slideshow": {
     "slide_type": "slide"
    }
   },
   "source": [
    "# TDD \n",
    "Test driven development comes in three blocks.\n",
    "<img style=\"right\" src=\"./imgs/tdd_explained.png\" width=700>\n",
    "a) you start thinking about what you want to code, write a test that will fail and then start writing the code to make the test pass. At this stage you have a working prototype and leave the first block (blue dotted line)\n",
    "\n",
    "b) you will write more tests covering foreseeable corner cases. If the test fail you adjust your code. After the tests pass you will leave the second block behind having a real product with test. \n",
    "\n",
    "c) Finally you start refactoring your code into the bigger picture. The tests will give you confidence that nothing breaks while you refactor. This step becomes essential when you tackle a similar problem or consolidate functionality in your core package. After that, you leave the third block and your code is maintainable, reusable and generalized in a bigger context. "
   ]
  },
  {
   "cell_type": "markdown",
   "metadata": {
    "slideshow": {
     "slide_type": "subslide"
    }
   },
   "source": [
    "Advantages are\n",
    "* think before coding. In a later stage you will think where the code will sit, how it wil work with the rest of your code base.\n",
    "* you will write tests before actually start coding on the solution (ie you will have tests at the end of the dev phase)\n",
    "* Forces you to write smaller functions that so TDD enforces the Zen of Python and general* coding philosophy\n",
    "    * Explicit is better than implicit.\n",
    "    * Simple is better than complex.\n",
    "    * Complex is better than complicated.\n",
    "    * a function should do one thing and one thing only\n",
    "\n"
   ]
  },
  {
   "cell_type": "markdown",
   "metadata": {
    "slideshow": {
     "slide_type": "slide"
    }
   },
   "source": [
    "In order to do so, we need to \n",
    "* fork the advanced_python_repo (so you can commit you code to your repo)\n",
    "* prepare some folders in your repo using this ...\n",
    "* if you can, switch to terminal and activate our virtualenv"
   ]
  },
  {
   "cell_type": "code",
   "execution_count": null,
   "metadata": {},
   "outputs": [],
   "source": [
    "# in which folder is jupyter running ?\n",
    "%pwd"
   ]
  },
  {
   "cell_type": "code",
   "execution_count": null,
   "metadata": {},
   "outputs": [],
   "source": [
    "# let's change it one up so we can use pytest more naturally\n",
    "# if you have a terminal you can call pytest also vie the terminal (much better ;)\n",
    "# course.package_dir is set during import (top cell)\n",
    "%cd {course.package_dir}"
   ]
  },
  {
   "cell_type": "code",
   "execution_count": null,
   "metadata": {
    "slideshow": {
     "slide_type": "subslide"
    }
   },
   "outputs": [],
   "source": [
    "!mkdir coffeepy\n",
    "!mkdir tests\n",
    "!mkdir docs"
   ]
  },
  {
   "cell_type": "markdown",
   "metadata": {
    "slideshow": {
     "slide_type": "subslide"
    }
   },
   "source": [
    "You should have a dir structure like this:\n",
    "\n",
    "    .\n",
    "    ├── LICENSE\n",
    "    ├── README.md\n",
    "    ├── coffeepy\n",
    "    ├── data\n",
    "    │   ├── amino_acid_properties.csv\n",
    "    ├── docs\n",
    "    ├── notebooks\n",
    "    │   ├── 01.01_Intro.ipynb\n",
    "    │   ├── ...\n",
    "    ├── requirements.txt\n",
    "    └── tests\n",
    "        └── hello.py"
   ]
  },
  {
   "cell_type": "code",
   "execution_count": null,
   "metadata": {
    "slideshow": {
     "slide_type": "slide"
    }
   },
   "outputs": [],
   "source": [
    "%%writefile coffeepy/__init__.py\n",
    "# __init__ py is required in a folder \n",
    "# to be recognized as a python module\n",
    "# otherwise the import statements won't work\n",
    "# the %%writefile magic allows the jupyter cell content to be stored as a file\n",
    "\n",
    "# lets load core into the name space as well\n",
    "from . import core"
   ]
  },
  {
   "cell_type": "markdown",
   "metadata": {
    "slideshow": {
     "slide_type": "slide"
    }
   },
   "source": [
    "# Workbench"
   ]
  },
  {
   "cell_type": "markdown",
   "metadata": {},
   "source": [
    "## ------- Start test editor block ------- \n",
    "Normally this would be in your editor / IDE \n",
    "\n",
    "In the figure that would be \"Write first test\""
   ]
  },
  {
   "cell_type": "code",
   "execution_count": null,
   "metadata": {},
   "outputs": [],
   "source": [
    "%%writefile tests/test_core.py\n",
    "import pytest\n",
    "import sys, os\n",
    "# -------- START of inconvenient addon block --------\n",
    "# This block is not neccessary if you instaled your package\n",
    "# using e.g. pip install -e\n",
    "# or have a symbolic link in your sitepackages (my preferend way)\n",
    "sys.path.append(\n",
    "    os.path.abspath(\n",
    "        os.path.join(\n",
    "            os.path.dirname(__file__), # location of this file\n",
    "            os.pardir, # and one level up, in linux ../\n",
    "        )\n",
    "    )\n",
    ")\n",
    "# --------  END of inconvenient addon block  --------\n",
    "\n",
    "import coffeepy\n",
    "\n",
    "\n",
    "def test_find_peaks():\n",
    "    peaks = coffeepy.core.find_peaks([0, 2, 1])\n",
    "    assert peaks == [2] \n",
    "    \n",
    "def test_find_peaks_2():\n",
    "    peaks = coffeepy.core.find_peaks([0, 2, 1, 0, 2, 1])\n",
    "    assert peaks == [2, 2] \n",
    "    \n",
    "def test_find_peaks_3():\n",
    "    peaks = coffeepy.core.find_peaks([])\n",
    "    assert peaks == [] \n",
    "    \n",
    "    \n",
    "def test_find_peaks_5():\n",
    "    peaks = coffeepy.core.find_peaks([(0,0,0), (10,0,0), (0,0,6)])\n",
    "    assert peaks == [(10,0,0)] "
   ]
  },
  {
   "cell_type": "code",
   "execution_count": null,
   "metadata": {},
   "outputs": [],
   "source": [
    "(0,0,0) < (0,12,0)"
   ]
  },
  {
   "cell_type": "markdown",
   "metadata": {},
   "source": [
    "## ------- End test editor block -------"
   ]
  },
  {
   "cell_type": "markdown",
   "metadata": {},
   "source": [
    "## ------- Test Ok ? block -------"
   ]
  },
  {
   "cell_type": "code",
   "execution_count": null,
   "metadata": {},
   "outputs": [],
   "source": [
    "!pytest tests"
   ]
  },
  {
   "cell_type": "code",
   "execution_count": null,
   "metadata": {},
   "outputs": [],
   "source": [
    "#\n",
    "# This is the core editor\n",
    "#"
   ]
  },
  {
   "cell_type": "code",
   "execution_count": null,
   "metadata": {},
   "outputs": [],
   "source": [
    "%%writefile coffeepy/core.py\n",
    "# The core module\n",
    "\n",
    "def find_peaks(list_of_intensities):\n",
    "    \"\"\"Find peaks\n",
    "\n",
    "    Find local maxima for a given list of intensities or tuples\n",
    "    Intensities are defined as local maxima if the \n",
    "    intensities of the elements in the list before and after \n",
    "    are smaller than the peak we want to determine.\n",
    "\n",
    "    Args:\n",
    "        list_of_intensities (list of floats, ints or tuple of ints): a list of\n",
    "            numeric values\n",
    "\n",
    "    Returns:\n",
    "        list of floats or tuples: list of the identified local maxima\n",
    "\n",
    "    Note:\n",
    "        This is just a place holder for the TDD part :)\n",
    "        \n",
    "    1 5 [6] 4 1 2 [3] 2 \n",
    "    \"\"\"\n",
    "    peaks = []\n",
    "    for pos, current_peak in enumerate(list_of_intensities[:-1]):\n",
    "        if pos == 0:\n",
    "            continue\n",
    "        if list_of_intensities[pos - 1] < current_peak > list_of_intensities[pos + 1]:\n",
    "            peaks.append(current_peak)\n",
    "    return peaks"
   ]
  },
  {
   "cell_type": "markdown",
   "metadata": {
    "slideshow": {
     "slide_type": "slide"
    }
   },
   "source": [
    "# Now let's go into the first (second) iterations\n",
    "## on the path to our first product\n",
    "\n",
    "<img style=\"right\" src=\"imgs/tdd_explained.png\" width=800>"
   ]
  },
  {
   "cell_type": "markdown",
   "metadata": {
    "slideshow": {
     "slide_type": "slide"
    }
   },
   "source": [
    "# Now let's make it brilliant\n",
    "\n",
    "Let's say we are happy with our *product* and got \"rich\". \n",
    "\n",
    "Now why do we need to refactor?\n",
    "\n",
    "* Not to have our code exist in \"coffeepy\" but move it into our *work horse* package\n",
    "* The moment the definition of list_of_intensities is altered, in which case we would \n",
    "    * restart the TDD process at the start  \n",
    "    * remember that both function do something similar and merge their code"
   ]
  },
  {
   "cell_type": "markdown",
   "metadata": {
    "slideshow": {
     "slide_type": "slide"
    }
   },
   "source": [
    "# Lets go into the third iteration\n",
    "\n",
    "## case find_peaks in a vector filled with colors\n",
    "\n",
    "Colors are defined as (e.g.) red-green-blue (RGB) tuples. So (0, 0, 0) is black and (255, 255, 255) is white.\n",
    "\n",
    "<img src=\"https://www.alanzucconi.com/wp-content/uploads/2015/09/colours.png\">\n",
    "\n",
    "And let's not go too deep into the beautiful world of [sorting colors by Alan Zucconi](https://www.alanzucconi.com/2015/09/30/colour-sorting/) and let's just say\n",
    "(20,0,0) > (0,19,0) so we sum-up the values in the tuples and feed it into our function, but this time we look for dark spots, that we want to identify as \"peaks\".\n",
    "\n",
    "### Write a second function!\n",
    "\n",
    "### What could refactoring look like ?"
   ]
  },
  {
   "cell_type": "markdown",
   "metadata": {
    "slideshow": {
     "slide_type": "slide"
    }
   },
   "source": [
    "# Let's add some auto documentation to our playground\n",
    "\n",
    "## Auto documentation using Sphinx!\n",
    "\n",
    "\"Sphinx is a tool that makes it easy to create intelligent and beautiful documentation, written by Georg Brandl and licensed under the BSD license.\n",
    "\n",
    "It was originally created for the Python documentation, and it has excellent facilities for the documentation of software projects in a range of languages. Of course, this site is also created from reStructuredText sources using Sphinx! The following features should be highlighted:\"\n",
    "\n",
    "[Website](http://www.sphinx-doc.org/en/master/)"
   ]
  },
  {
   "cell_type": "markdown",
   "metadata": {
    "slideshow": {
     "slide_type": "subslide"
    }
   },
   "source": [
    "Quickstart, open terminal and\n",
    "``` bash\n",
    "$ cd docs\n",
    "```\n",
    "\n",
    "**NOTE:** Personally, I do not like the docs to clutter my project dir with different files but to have everything contained in the docs folder\n",
    "\n",
    "``` bash\n",
    "$ sphinx-quickstart                                                                \n",
    "Welcome to the Sphinx 3.4.3 quickstart utility.\n",
    "\n",
    "Please enter values for the following settings (just press Enter to\n",
    "accept a default value, if one is given in brackets).\n",
    "\n",
    "Selected root path: .\n",
    "\n",
    "You have two options for placing the build directory for Sphinx output.\n",
    "Either, you use a directory \"_build\" within the root path, or you separate\n",
    "\"source\" and \"build\" directories within the root path.\n",
    "> Separate source and build directories (y/n) [n]: y\n",
    "\n",
    "The project name will occur in several places in the built documentation.\n",
    "> Project name: CoffeePy\n",
    "> Author name(s): Christian Fufezan\n",
    "> Project release []: \n",
    "\n",
    "If the documents are to be written in a language other than English,\n",
    "you can select a language here by its language code. Sphinx will then\n",
    "translate text that it generates into that language.\n",
    "\n",
    "For a list of supported codes, see\n",
    "https://www.sphinx-doc.org/en/master/usage/configuration.html#confval-language.\n",
    "> Project language [en]: \n",
    "\n",
    "Creating file /Users/fu/dev/teaching/advanced_python_2020-21_HD/docs/source/conf.py.\n",
    "Creating file /Users/fu/dev/teaching/advanced_python_2020-21_HD/docs/source/index.rst.\n",
    "Creating file /Users/fu/dev/teaching/advanced_python_2020-21_HD/docs/Makefile.\n",
    "Creating file /Users/fu/dev/teaching/advanced_python_2020-21_HD/docs/make.bat.\n",
    "\n",
    "Finished: An initial directory structure has been created.\n",
    "\n",
    "You should now populate your master file /Users/fu/dev/teaching/advanced_python_2020-21_HD/docs/source/index.rst and create other documentation\n",
    "source files. Use the Makefile to build the docs, like so:\n",
    "   make builder\n",
    "where \"builder\" is one of the supported builders, e.g. html, latex or linkcheck\n",
    "```"
   ]
  },
  {
   "cell_type": "markdown",
   "metadata": {
    "slideshow": {
     "slide_type": "subslide"
    }
   },
   "source": [
    "Now let's make the first documentation\n",
    "```bash\n",
    "make html\n",
    "open build/html/index.html\n",
    "```"
   ]
  },
  {
   "cell_type": "markdown",
   "metadata": {
    "slideshow": {
     "slide_type": "subslide"
    }
   },
   "source": [
    "Sphinx does not know anything about our poject yet so we have to edit\n",
    "**docs/source/conf.py** you will find \n",
    "``` python\n",
    "# If extensions (or modules to document with autodoc) are in another directory,\n",
    "# add these directories to sys.path here. If the directory is relative to the\n",
    "# documentation root, use os.path.abspath to make it absolute, like shown here.\n",
    "#\n",
    "# import os\n",
    "# import sys\n",
    "# sys.path.insert(0, os.path.abspath('.'))\n",
    "``` \n",
    "that block in the beginning of the conf file, uncomment it and edit the sys.path so the module can be found\n",
    "``` python\n",
    "dir_path = os.path.join(\n",
    "    os.path.dirname(__file__),\n",
    "    os.pardir,\n",
    "    os.pardir,\n",
    ")\n",
    "sys.path.insert(0, os.path.abspath(dir_path))\n",
    "```"
   ]
  },
  {
   "cell_type": "markdown",
   "metadata": {
    "slideshow": {
     "slide_type": "subslide"
    }
   },
   "source": [
    "Additionally, let's make sphinx understand google and numpy docstring! Edit\n",
    "**docs/source/conf.py** again and add the napoleon extention to the extentions \n",
    "``` python\n",
    "extensions = [\n",
    "    'sphinx.ext.napoleon',\n",
    "]\n",
    "```"
   ]
  },
  {
   "cell_type": "markdown",
   "metadata": {
    "slideshow": {
     "slide_type": "subslide"
    }
   },
   "source": [
    "Wonder what so special about google's docstring ?\n",
    "\n",
    "*Regular*\n",
    "``` \n",
    ":param path: The path of the file to wrap\n",
    ":type path: str\n",
    ":param field_storage: The :class:`FileStorage` instance to wrap\n",
    ":type field_storage: FileStorage\n",
    ":param temporary: Whether or not to delete the file when the File\n",
    "   instance is destructed\n",
    ":type temporary: bool\n",
    ":returns: A buffered writable file descriptor\n",
    ":rtype: BufferedFileStorage\n",
    "```\n",
    "\n",
    "*Google python style*\n",
    "```\n",
    "Args:\n",
    "    path (str): The path of the file to wrap\n",
    "    field_storage (FileStorage): The :class:`FileStorage` instance to wrap\n",
    "    temporary (bool): Whether or not to delete the file when the File\n",
    "       instance is destructed\n",
    "\n",
    "Returns:\n",
    "    BufferedFileStorage: A buffered writable file descriptor\n",
    "```\n",
    "\n",
    "For more details, see [here](https://www.sphinx-doc.org/en/1.5/ext/example_google.html)"
   ]
  },
  {
   "cell_type": "markdown",
   "metadata": {
    "slideshow": {
     "slide_type": "subslide"
    }
   },
   "source": [
    "So now let's build again!\n",
    "```bash\n",
    "make html\n",
    "```\n",
    "\n"
   ]
  },
  {
   "cell_type": "code",
   "execution_count": null,
   "metadata": {},
   "outputs": [],
   "source": [
    "%pwd"
   ]
  },
  {
   "cell_type": "code",
   "execution_count": null,
   "metadata": {},
   "outputs": [],
   "source": [
    "%cd '/Users/fu/dev/teaching/advanced_python_2020-21_HD_pre/docs'"
   ]
  },
  {
   "cell_type": "code",
   "execution_count": null,
   "metadata": {
    "slideshow": {
     "slide_type": "subslide"
    }
   },
   "outputs": [],
   "source": [
    "!make html"
   ]
  },
  {
   "cell_type": "markdown",
   "metadata": {
    "slideshow": {
     "slide_type": "subslide"
    }
   },
   "source": [
    "Nothing to see because we have not added our module yet!\n",
    "\n",
    "Let's edit docs/source/index.rst"
   ]
  },
  {
   "cell_type": "markdown",
   "metadata": {
    "slideshow": {
     "slide_type": "subslide"
    }
   },
   "source": [
    "```\n",
    ".. playground documentation master file, created by\n",
    "   sphinx-quickstart on Sun Oct 13 15:39:43 2019.\n",
    "   You can adapt this file completely to your liking, but it should at least\n",
    "   contain the root `toctree` directive.\n",
    "\n",
    "Welcome to playground's documentation!\n",
    "=========================================\n",
    "\n",
    ".. toctree::\n",
    "   :maxdepth: 2\n",
    "   :caption: Contents:\n",
    "\n",
    "   core\n",
    "\n",
    "\n",
    "Indices and tables\n",
    "==================\n",
    "\n",
    "* :ref:`genindex`\n",
    "* :ref:`modindex`\n",
    "* :ref:`search`\n",
    "```\n",
    "\n",
    "**I added core to the toctree!**\n",
    "\n"
   ]
  },
  {
   "cell_type": "markdown",
   "metadata": {
    "slideshow": {
     "slide_type": "subslide"
    }
   },
   "source": [
    "and **docs/source/core.rst** looks like:\n",
    "```\n",
    ".. _core.rst:\n",
    "\n",
    "Core module\n",
    "===========\n",
    "\n",
    ".. automodule:: coffeepy.core\n",
    "    :members:\n",
    "    :undoc-members:\n",
    "```\n",
    "\n",
    "This is sufficient to have all functions in this module to be parsed and included in this documentation.\n",
    "\n",
    "The *:undoc-members:* helps to find all functions, even the ones that have no documentation.\n",
    "\n",
    "\n"
   ]
  },
  {
   "cell_type": "markdown",
   "metadata": {
    "slideshow": {
     "slide_type": "subslide"
    }
   },
   "source": [
    "Now rerun the documentation building procedure\n",
    "``` bash\n",
    "make html\n",
    "```"
   ]
  },
  {
   "cell_type": "code",
   "execution_count": null,
   "metadata": {},
   "outputs": [],
   "source": [
    "!make html;open build/html/index.html"
   ]
  },
  {
   "cell_type": "markdown",
   "metadata": {},
   "source": []
  },
  {
   "cell_type": "markdown",
   "metadata": {},
   "source": [
    "# Summary\n",
    "\n",
    "* Use test driven development! Because you do it already but you do not record it!\n",
    "* Write good doc strings! Use Google style for clarity!\n",
    "* Create a Sphinx documentation because it will help you not only to auto generate latest documentation but also create pdfs and have it hosted on readthedocs.org\n",
    "\n",
    "####  Question: Would you like to have more CI/CD?"
   ]
  },
  {
   "cell_type": "code",
   "execution_count": null,
   "metadata": {},
   "outputs": [],
   "source": []
  }
 ],
 "metadata": {
  "celltoolbar": "Slideshow",
  "kernelspec": {
   "display_name": "Python 3",
   "language": "python",
   "name": "python3"
  },
  "language_info": {
   "codemirror_mode": {
    "name": "ipython",
    "version": 3
   },
   "file_extension": ".py",
   "mimetype": "text/x-python",
   "name": "python",
   "nbconvert_exporter": "python",
   "pygments_lexer": "ipython3",
   "version": "3.8.5"
  }
 },
 "nbformat": 4,
 "nbformat_minor": 2
}
