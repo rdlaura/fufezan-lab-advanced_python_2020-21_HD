{
 "cells": [
  {
   "cell_type": "code",
   "execution_count": 2,
   "id": "assured-consolidation",
   "metadata": {},
   "outputs": [
    {
     "ename": "AttributeError",
     "evalue": "module 'pandas' has no attribute 'set_option'",
     "output_type": "error",
     "traceback": [
      "\u001B[1;31m---------------------------------------------------------------------------\u001B[0m",
      "\u001B[1;31mAttributeError\u001B[0m                            Traceback (most recent call last)",
      "\u001B[1;32m<ipython-input-2-b954323288bb>\u001B[0m in \u001B[0;36m<module>\u001B[1;34m\u001B[0m\n\u001B[1;32m----> 1\u001B[1;33m \u001B[1;32mimport\u001B[0m \u001B[0mcourse\u001B[0m\u001B[1;33m;\u001B[0m\u001B[0mcourse\u001B[0m\u001B[1;33m.\u001B[0m\u001B[0mheader\u001B[0m\u001B[1;33m(\u001B[0m\u001B[1;33m)\u001B[0m\u001B[1;33m\u001B[0m\u001B[1;33m\u001B[0m\u001B[0m\n\u001B[0m",
      "\u001B[1;32m~\\PycharmProjects\\fufezan-lab-advanced_python_2020-21_HD_fork\\notebooks\\course.py\u001B[0m in \u001B[0;36m<module>\u001B[1;34m\u001B[0m\n\u001B[0;32m      7\u001B[0m \u001B[1;31m#       maybe in the next advanced course :)\u001B[0m\u001B[1;33m\u001B[0m\u001B[1;33m\u001B[0m\u001B[1;33m\u001B[0m\u001B[0m\n\u001B[0;32m      8\u001B[0m \u001B[1;31m#\u001B[0m\u001B[1;33m\u001B[0m\u001B[1;33m\u001B[0m\u001B[1;33m\u001B[0m\u001B[0m\n\u001B[1;32m----> 9\u001B[1;33m \u001B[0mpd\u001B[0m\u001B[1;33m.\u001B[0m\u001B[0mset_option\u001B[0m\u001B[1;33m(\u001B[0m\u001B[1;34m\"display.max_columns\"\u001B[0m \u001B[1;33m,\u001B[0m \u001B[1;36m300\u001B[0m\u001B[1;33m)\u001B[0m\u001B[1;33m\u001B[0m\u001B[1;33m\u001B[0m\u001B[0m\n\u001B[0m\u001B[0;32m     10\u001B[0m \u001B[1;33m\u001B[0m\u001B[0m\n\u001B[0;32m     11\u001B[0m df_high_level = pd.DataFrame(\n",
      "\u001B[1;31mAttributeError\u001B[0m: module 'pandas' has no attribute 'set_option'"
     ]
    }
   ],
   "source": [
    "import course;course.header()"
   ]
  },
  {
   "cell_type": "markdown",
   "id": "chronic-criticism",
   "metadata": {
    "slideshow": {
     "slide_type": "slide"
    }
   },
   "source": [
    "# Excersise No. 2\n",
    "\n",
    "## Count Amino acid propensity in human proteome\n",
    "\n",
    "Got to Uniprot and download the latests [here](https://www.uniprot.org/uniprot/?query=*&fil=organism%3A%22Homo+sapiens+%28Human%29+%5B9606%5D%22+AND+reviewed%3Ayes#)\n",
    "\n",
    "The file containes protein sequences in FASTA format, i.e.\n",
    "```txt\n",
    "> (( Identifier line ))\n",
    "(( Amino acid Sequence, can stretch over multiple lines ))\n",
    "> (( next identifier line ))\n",
    "```\n",
    "\n",
    "Write a standalone script that parses the uniprot fasta file and count amino acid frequency.\n",
    "The script should be callable like \n",
    "``` bash\n",
    "$ ./count_aas.py \"uniprot-filtered-proteome%3AUP000005640+AND+reviewed%3Ayes+AND+organism%3A%22Hom--.fasta\"\n",
    "```\n",
    "and produce an output like this\n",
    "``` bash\n",
    "A: xxxx\n",
    "C: yyyy\n",
    "D: zzzz\n",
    "...\n",
    "```\n",
    "\n",
    "Safe the output in a csv in the following format\n",
    "```bash\n",
    "$ cat human_aa_distribution.csv\n",
    "aa, count\n",
    "A, 123123123\n",
    "C, 3213\n",
    "D, ...\n",
    "```"
   ]
  },
  {
   "cell_type": "markdown",
   "id": "municipal-general",
   "metadata": {},
   "source": [
    "## Plot a histogram for human\n",
    "Use the dictionary created in a) to plot a histogram using your favorit lib\n",
    "\n",
    "Create a standalone script that will plot the histogram\n",
    "```bash\n",
    "$ ./plot_aa_histogram.py \"uniprot-filtered-proteome%3AUP000005640+AND+reviewed%3Ayes+AND+organism%3A%22Hom--.fasta\"\n",
    "```"
   ]
  },
  {
   "cell_type": "markdown",
   "id": "plastic-salem",
   "metadata": {},
   "source": [
    "## Rinse and repeat \n",
    "Repeat counting and plotting for at leat one organism of the following kingdoms of life:\n",
    "* Bacteria\n",
    "* Archea \n",
    "* Plantae\n",
    "* Animalia"
   ]
  },
  {
   "cell_type": "markdown",
   "id": "greek-strength",
   "metadata": {},
   "source": [
    "Are there difference? "
   ]
  },
  {
   "cell_type": "markdown",
   "id": "analyzed-partner",
   "metadata": {},
   "source": [
    "# Extremes (optional)"
   ]
  },
  {
   "cell_type": "markdown",
   "id": "comprehensive-coaching",
   "metadata": {},
   "source": [
    "Find the most extreme proteins\n",
    "* lowest / highest pI\n",
    "* longest / shortest proteins\n"
   ]
  },
  {
   "cell_type": "code",
   "execution_count": null,
   "id": "prepared-finland",
   "metadata": {},
   "outputs": [],
   "source": []
  }
 ],
 "metadata": {
  "kernelspec": {
   "display_name": "Python 3",
   "language": "python",
   "name": "python3"
  },
  "language_info": {
   "codemirror_mode": {
    "name": "ipython",
    "version": 3
   },
   "file_extension": ".py",
   "mimetype": "text/x-python",
   "name": "python",
   "nbconvert_exporter": "python",
   "pygments_lexer": "ipython3",
   "version": "3.9.1"
  }
 },
 "nbformat": 4,
 "nbformat_minor": 5
}