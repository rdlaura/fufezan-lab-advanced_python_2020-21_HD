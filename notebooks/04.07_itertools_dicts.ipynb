{
 "cells": [
  {
   "cell_type": "code",
   "execution_count": null,
   "metadata": {
    "slideshow": {
     "slide_type": "slide"
    }
   },
   "outputs": [],
   "source": [
    "import course;course.header()"
   ]
  },
  {
   "cell_type": "markdown",
   "metadata": {
    "slideshow": {
     "slide_type": "slide"
    }
   },
   "source": [
    "# Days 4\n",
    "## Overview"
   ]
  },
  {
   "cell_type": "code",
   "execution_count": null,
   "metadata": {},
   "outputs": [],
   "source": [
    "course.display_topics(day=4)"
   ]
  },
  {
   "cell_type": "markdown",
   "metadata": {
    "slideshow": {
     "slide_type": "slide"
    }
   },
   "source": [
    "# Discssion @ Excersises \n",
    "\n"
   ]
  },
  {
   "cell_type": "markdown",
   "metadata": {
    "slideshow": {
     "slide_type": "slide"
    }
   },
   "source": [
    "# String format\n",
    "\n",
    "a powerful techniques to produce well formatted strings. Reference can be found [here](https://docs.python.org/3.4/library/string.html#format-specification-mini-language)"
   ]
  },
  {
   "cell_type": "code",
   "execution_count": null,
   "metadata": {},
   "outputs": [],
   "source": [
    "\"{0}\".format(42.0030937)    # cast float to string"
   ]
  },
  {
   "cell_type": "code",
   "execution_count": null,
   "metadata": {},
   "outputs": [],
   "source": [
    "\"{0:7.4f}\".format(42.0030937)    # cast float to string and round it. Seven digits in total, 4 decimals"
   ]
  },
  {
   "cell_type": "code",
   "execution_count": null,
   "metadata": {},
   "outputs": [],
   "source": [
    "# Align text in longer context\n",
    "print(\"Centered      {0:^17.4f}\".format(42.0030937))    # center text within longer area\n",
    "print(\"Aligned left  {0:<17.4f}\".format(42.0030937))    # align left\n",
    "print(\"Aligned right {0:>17.4f}\".format(42.0030937))    # align right"
   ]
  },
  {
   "cell_type": "code",
   "execution_count": null,
   "metadata": {},
   "outputs": [],
   "source": [
    "# Fill empty with placeholder, here _\n",
    "print(\"Centered      {0:_^17.4f}\".format(42.0030937))    # center text within longer area\n",
    "print(\"Aligned left  {0:_<17.4f}\".format(42.0030937))    # align left\n",
    "print(\"Aligned right {0:_>17.4f}\".format(42.0030937))    # align right"
   ]
  },
  {
   "cell_type": "code",
   "execution_count": null,
   "metadata": {},
   "outputs": [],
   "source": [
    "\"{0:7.4f} and not {1:7.4f}\".format(42.0030937, 2)    # use an (unpacked) list of elements"
   ]
  },
  {
   "cell_type": "code",
   "execution_count": null,
   "metadata": {},
   "outputs": [],
   "source": [
    "\"{first:7.4f} and not {second:7.4f}\".format(first=42.0030937, second=2)    # use a (unpacked) dict"
   ]
  },
  {
   "cell_type": "code",
   "execution_count": null,
   "metadata": {},
   "outputs": [],
   "source": [
    "string_elements = [42.0030937, 2]\n",
    "\"{0:7.4f} and not {1:7.4f}\".format(*string_elements) # use an (unpacked) list of elements"
   ]
  },
  {
   "cell_type": "code",
   "execution_count": null,
   "metadata": {},
   "outputs": [],
   "source": [
    "string_elements = {'first': 42.00309377849553, 'second': 2}\n",
    "\"{first:7.4f} and not {second:7.4f}\".format(**string_elements)  # use a (unpacked) dict"
   ]
  },
  {
   "cell_type": "code",
   "execution_count": null,
   "metadata": {},
   "outputs": [],
   "source": [
    "counters = {\"warnings\": 12, \"critical_errors\": 0, \"passed evaluations\": 1002}\n",
    "\n",
    "# \"During run time we found {warnings:0>4d} warnings and {critical_errors:0>4d} critial errors\".format(**counters)\n",
    "# print(f\"During run time we found {counters['warnings']:0>4d}\")\n",
    "# Note counters dict can carry much more than we actually display in our formatted string"
   ]
  },
  {
   "cell_type": "code",
   "execution_count": null,
   "metadata": {},
   "outputs": [],
   "source": [
    "# use different format types ... and yes there are many .. here with an exponent\n",
    "\"During run time {passed evaluations:1.3E} evaluations passed without any issue\".format(**counters)"
   ]
  },
  {
   "cell_type": "code",
   "execution_count": null,
   "metadata": {},
   "outputs": [],
   "source": [
    "# Python 3.6 introduced another way to use format strings, ie addin an f in front of the string\n",
    "# allows local variables to be inserted directly\n",
    "\n",
    "warnings = 12\n",
    "critical_errors = 0\n",
    "\n",
    "f\"During run time we found {warnings:0>4d} warnings and {critical_errors:0>4d} critial errors\""
   ]
  },
  {
   "cell_type": "markdown",
   "metadata": {
    "slideshow": {
     "slide_type": "slide"
    }
   },
   "source": [
    "# Dicts\n",
    "\n",
    "Dictionaries, short dicts are lookup data structures in the form of key, value pairs. Keys have to be hashable (ie no dicts, sets, lists, yet e.g. tuples, floats, ints and strings work)and values can be of any type.\n",
    "\n",
    "**NOTE** dicts used to be unordered so best don't assume to be ordered or used ordered dict from colections directly (more to collections later)\n",
    "\n",
    "Lookup a value using its key in a dict is fast!\n",
    "\n",
    "one can iterate over a dicts\n",
    "* keys via d.keys()\n",
    "* values via d.values()\n",
    "* or pairs of key, values via d.items()"
   ]
  },
  {
   "cell_type": "code",
   "execution_count": null,
   "metadata": {},
   "outputs": [],
   "source": [
    "a = {\"King\": \"Arthur\", \"Uni\": \"Hd\"}\n"
   ]
  },
  {
   "cell_type": "code",
   "execution_count": null,
   "metadata": {},
   "outputs": [],
   "source": [
    "for key, value in a.items():\n",
    "    print('Key {0} points to value {1}'.format(key, value))"
   ]
  },
  {
   "cell_type": "markdown",
   "metadata": {
    "slideshow": {
     "slide_type": "slide"
    }
   },
   "source": [
    "Given d is an dictionary with unknown content. How to code\n",
    "* get value for key \"A\", and if not available return \"unknown amino acid\"\n",
    "* set value for key \"A\" to \"Alanine\" if not already in d\n",
    "\n",
    "How to merge two dicts ?"
   ]
  },
  {
   "cell_type": "code",
   "execution_count": null,
   "metadata": {},
   "outputs": [],
   "source": [
    "display(a)\n",
    "b = {\"Language\": \"English\", \"King\": \"Nobody!\"}\n",
    "a.update(b)\n",
    "a"
   ]
  },
  {
   "cell_type": "markdown",
   "metadata": {},
   "source": [
    "### Note: Prior to Python 3.6 dicts are not ordered! \n",
    "Don't *ASSUME* ie, either limit your module to Python3.6+ or use orderedDict to be on the safe side"
   ]
  },
  {
   "cell_type": "code",
   "execution_count": null,
   "metadata": {},
   "outputs": [],
   "source": [
    "from collections import OrderedDict as odict\n",
    "a = odict({\"King\": \"Arthur\", \"Uni\": \"Hd\"})\n",
    "b = odict({\"Language\": \"English\", \"King\": \"Nobody!\"})\n",
    "print(a, b)"
   ]
  },
  {
   "cell_type": "code",
   "execution_count": null,
   "metadata": {},
   "outputs": [],
   "source": [
    "a.update(b)\n",
    "a"
   ]
  },
  {
   "cell_type": "markdown",
   "metadata": {},
   "source": [
    "## Side note:"
   ]
  },
  {
   "cell_type": "code",
   "execution_count": null,
   "metadata": {},
   "outputs": [],
   "source": [
    "print(a.pop.__doc__)\n",
    "# alt \"? a.pop\""
   ]
  },
  {
   "cell_type": "code",
   "execution_count": null,
   "metadata": {},
   "outputs": [],
   "source": [
    "? a.pop\n"
   ]
  },
  {
   "cell_type": "code",
   "execution_count": null,
   "metadata": {},
   "outputs": [],
   "source": [
    "# q: how to rename a key within a dict\n",
    "a['Old King'] = a.pop('King')\n",
    "a\n",
    "# Note: changes position :)"
   ]
  },
  {
   "cell_type": "code",
   "execution_count": null,
   "metadata": {},
   "outputs": [],
   "source": [
    "print(dir(a))"
   ]
  },
  {
   "cell_type": "code",
   "execution_count": null,
   "metadata": {},
   "outputs": [],
   "source": []
  },
  {
   "cell_type": "markdown",
   "metadata": {
    "slideshow": {
     "slide_type": "slide"
    }
   },
   "source": [
    "# Iteration helpers\n",
    "\n",
    "How would you code a loop that generates out of an iterable \\['A', 'B', 'C' \\]\n",
    "the following \n",
    "* AB, AC, BC\n",
    "* AA, AB, AC, BA, BB, BC, CA, CB, CC\n",
    "\n"
   ]
  },
  {
   "cell_type": "code",
   "execution_count": null,
   "metadata": {},
   "outputs": [],
   "source": [
    "a = ['A', 'B', 'C']"
   ]
  },
  {
   "cell_type": "code",
   "execution_count": null,
   "metadata": {},
   "outputs": [],
   "source": [
    "b = []\n",
    "for pos_1, first in enumerate(a):\n",
    "    for pos_2, second in enumerate(a):\n",
    "        if first == second:\n",
    "            continue\n",
    "        if pos_2 < pos_1:\n",
    "            continue\n",
    "        b.append(f\"{first}{second}\")"
   ]
  },
  {
   "cell_type": "code",
   "execution_count": null,
   "metadata": {},
   "outputs": [],
   "source": [
    "b\n",
    "        "
   ]
  },
  {
   "cell_type": "code",
   "execution_count": null,
   "metadata": {
    "slideshow": {
     "slide_type": "slide"
    }
   },
   "outputs": [],
   "source": [
    "\n",
    "already_seen = set()\n",
    "for e1 in a:\n",
    "    for e2 in a:\n",
    "        if e1 == e2:\n",
    "            continue\n",
    "        \n",
    "        sorted_tuple = tuple(sorted([e1, e2]))\n",
    "        \n",
    "        if sorted_tuple in already_seen:\n",
    "            continue\n",
    "        \n",
    "        print(e1, e2)\n",
    "        already_seen.add(sorted_tuple)"
   ]
  },
  {
   "cell_type": "markdown",
   "metadata": {
    "slideshow": {
     "slide_type": "subslide"
    }
   },
   "source": [
    "# [itertools](https://docs.python.org/3.7/library/itertools.html)\n",
    "\n",
    "Python iterator helpers for efficient and **readable** looping."
   ]
  },
  {
   "cell_type": "code",
   "execution_count": null,
   "metadata": {},
   "outputs": [],
   "source": [
    "import itertools"
   ]
  },
  {
   "cell_type": "code",
   "execution_count": null,
   "metadata": {},
   "outputs": [],
   "source": [
    "list(itertools.product(a, repeat=2))"
   ]
  },
  {
   "cell_type": "code",
   "execution_count": null,
   "metadata": {},
   "outputs": [],
   "source": [
    "list(itertools.combinations(a, 2))"
   ]
  },
  {
   "cell_type": "code",
   "execution_count": null,
   "metadata": {},
   "outputs": [],
   "source": [
    "# Chain"
   ]
  },
  {
   "cell_type": "code",
   "execution_count": null,
   "metadata": {},
   "outputs": [],
   "source": [
    "iterable_1 = \"ABCDEFGHIJKLMNOPQRSTUVWXYZ\"\n",
    "iterable_2 = [1, 2, 3, 4, 5, 6]\n",
    "iterable_3 = \"ACDEFGHIKLMNPQRSTVWY\""
   ]
  },
  {
   "cell_type": "code",
   "execution_count": null,
   "metadata": {},
   "outputs": [],
   "source": [
    "for x in itertools.chain(iterable_1, iterable_2, iterable_3):\n",
    "    print(x)"
   ]
  },
  {
   "cell_type": "markdown",
   "metadata": {},
   "source": [
    "Advantage: Lists do not need to be duplicated as new concatenated object but iteration is just continued into next iterable! Memory efficient!"
   ]
  },
  {
   "cell_type": "code",
   "execution_count": null,
   "metadata": {},
   "outputs": [],
   "source": [
    "# groupby\n",
    "coffee = [\n",
    "    {\n",
    "        'Species': 'Arabica',\n",
    "        'Country.of.Origin': 'Haiti',\n",
    "        'Color': 'Green',\n",
    "        'Aroma': 7.58\n",
    "    },\n",
    "    {\n",
    "        'Species': 'Arabica',\n",
    "        'Country.of.Origin': 'Colombia',\n",
    "        'Color': 'Bluish-Green',\n",
    "        'Aroma': 7.67\n",
    "    },\n",
    "    {\n",
    "        'Species': 'Arabica',\n",
    "        'Country.of.Origin': 'Brazil',\n",
    "        'Color': 'Green',\n",
    "        'Aroma': 7.25\n",
    "    },\n",
    "    {\n",
    "        'Species': 'Arabica',\n",
    "        'Country.of.Origin': 'Guatemala',\n",
    "        'Color': 'Green',\n",
    "        'Aroma': 7.83\n",
    "    },\n",
    "    {\n",
    "        'Species': 'Arabica',\n",
    "        'Country.of.Origin': 'Brazil',\n",
    "        'Color': 'Green',\n",
    "        'Aroma': 7.58\n",
    "    },\n",
    "    {\n",
    "        'Species': 'Arabica',\n",
    "        'Country.of.Origin': 'Guatemala',\n",
    "        'Color': 'Green',\n",
    "        'Aroma': 7.67\n",
    "    },\n",
    "    {\n",
    "        'Species': 'Arabica',\n",
    "        'Country.of.Origin': 'Guatemala',\n",
    "        'Color': 'Green',\n",
    "        'Aroma': 7.17\n",
    "     }\n",
    " ]\n"
   ]
  },
  {
   "cell_type": "code",
   "execution_count": null,
   "metadata": {},
   "outputs": [],
   "source": [
    "from operator import itemgetter\n",
    "sorted_coffee = sorted(coffee, key=itemgetter(\"Aroma\"))\n",
    "sorted_coffee"
   ]
  },
  {
   "cell_type": "code",
   "execution_count": null,
   "metadata": {},
   "outputs": [],
   "source": [
    "import itertools\n",
    "coffee_key = \"Country.of.Origin\"\n",
    "print(f\"Grouping by {coffee_key}!\")\n",
    "for name, grp in itertools.groupby(sorted(coffee, key=itemgetter(coffee_key)), key=itemgetter(coffee_key)):\n",
    "    print(name)\n",
    "    for _ in grp:\n",
    "        print(_)\n",
    "    print()\n",
    "                                   "
   ]
  },
  {
   "cell_type": "markdown",
   "metadata": {},
   "source": [
    "Note: groupby requires list to be sorted by same key :( For more data wrangling we will use pandas in week 2! :)"
   ]
  },
  {
   "cell_type": "code",
   "execution_count": null,
   "metadata": {},
   "outputs": [],
   "source": []
  }
 ],
 "metadata": {
  "celltoolbar": "Slideshow",
  "kernelspec": {
   "display_name": "Python 3",
   "language": "python",
   "name": "python3"
  },
  "language_info": {
   "codemirror_mode": {
    "name": "ipython",
    "version": 3
   },
   "file_extension": ".py",
   "mimetype": "text/x-python",
   "name": "python",
   "nbconvert_exporter": "python",
   "pygments_lexer": "ipython3",
   "version": "3.8.5"
  }
 },
 "nbformat": 4,
 "nbformat_minor": 2
}
