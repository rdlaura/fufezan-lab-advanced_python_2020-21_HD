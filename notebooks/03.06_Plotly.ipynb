{
 "cells": [
  {
   "cell_type": "code",
   "execution_count": null,
   "metadata": {
    "slideshow": {
     "slide_type": "slide"
    }
   },
   "outputs": [],
   "source": [
    "import course;course.header()"
   ]
  },
  {
   "cell_type": "markdown",
   "metadata": {
    "slideshow": {
     "slide_type": "slide"
    }
   },
   "source": [
    "# Days 3\n",
    "## Overview"
   ]
  },
  {
   "cell_type": "code",
   "execution_count": null,
   "metadata": {},
   "outputs": [],
   "source": [
    "course.display_topics(day=3)"
   ]
  },
  {
   "cell_type": "markdown",
   "metadata": {
    "slideshow": {
     "slide_type": "slide"
    }
   },
   "source": [
    "# Discssion @ Excersises \n",
    "\n"
   ]
  },
  {
   "cell_type": "code",
   "execution_count": null,
   "metadata": {},
   "outputs": [],
   "source": []
  },
  {
   "cell_type": "code",
   "execution_count": null,
   "metadata": {},
   "outputs": [],
   "source": []
  },
  {
   "cell_type": "code",
   "execution_count": null,
   "metadata": {},
   "outputs": [],
   "source": []
  },
  {
   "cell_type": "markdown",
   "metadata": {
    "slideshow": {
     "slide_type": "slide"
    }
   },
   "source": [
    "# A building block for excersises 1 & 2"
   ]
  },
  {
   "cell_type": "code",
   "execution_count": null,
   "metadata": {
    "slideshow": {
     "slide_type": "-"
    }
   },
   "outputs": [],
   "source": [
    "seqs = {}\n",
    "current_id = None\n",
    "current_seq = \"\"\n",
    "with open(\"../data/uniprot-filtered-organism__Homo+sapiens+(Human)+[9606]_+AND+review--.fasta\") as fasta_file:\n",
    "    for line in fasta_file:\n",
    "        if line.startswith(\">\"):\n",
    "            if current_id is not None:\n",
    "                seqs[current_id] = current_seq\n",
    "            current_seq = \"\"\n",
    "            current_id = line.strip()\n",
    "        else:\n",
    "            current_seq += line.strip()\n",
    "    seqs[current_id] = current_seq\n",
    "    "
   ]
  },
  {
   "cell_type": "code",
   "execution_count": null,
   "metadata": {},
   "outputs": [],
   "source": [
    "!ls ../data"
   ]
  },
  {
   "cell_type": "markdown",
   "metadata": {
    "slideshow": {
     "slide_type": "slide"
    }
   },
   "source": [
    "# Eval building block for excersise 2"
   ]
  },
  {
   "cell_type": "code",
   "execution_count": null,
   "metadata": {},
   "outputs": [],
   "source": [
    "longest = None\n",
    "longest_sequence = -1 \n",
    "for identifier, sequence in seqs.items():\n",
    "    if len(sequence) > longest_sequence:\n",
    "        longest = identifier\n",
    "        longest_sequence = len(sequence)"
   ]
  },
  {
   "cell_type": "code",
   "execution_count": null,
   "metadata": {
    "slideshow": {
     "slide_type": "-"
    }
   },
   "outputs": [],
   "source": [
    "longest"
   ]
  },
  {
   "cell_type": "markdown",
   "metadata": {},
   "source": [
    "Say hello to [Titin](https://en.wikipedia.org/wiki/Titin) /Taitin/ "
   ]
  },
  {
   "cell_type": "markdown",
   "metadata": {},
   "source": []
  },
  {
   "cell_type": "code",
   "execution_count": null,
   "metadata": {},
   "outputs": [],
   "source": []
  },
  {
   "cell_type": "markdown",
   "metadata": {
    "slideshow": {
     "slide_type": "slide"
    }
   },
   "source": [
    "# Plotting with plotly\n",
    "\n",
    "Plotly is an interactive plotting library supporting many programming languages. Plotlys plots are based on javascript build on top of d3.js and stack.gl.\n",
    "\n",
    "Advantages comapred to ggplot, matplotlib (and derivitates, seaborn ..), bokeh, pygal are:\n",
    "* interactive (mouse over, zoom ...)\n",
    "* directly embeddable as html\n",
    "* realtime plots"
   ]
  },
  {
   "cell_type": "code",
   "execution_count": null,
   "metadata": {},
   "outputs": [],
   "source": [
    "# basic setup\n",
    "import plotly\n",
    "import plotly.graph_objs as go\n",
    "plotly.__version__"
   ]
  },
  {
   "cell_type": "code",
   "execution_count": null,
   "metadata": {},
   "outputs": [],
   "source": [
    "import pandas as pd\n",
    "pd.__version__"
   ]
  },
  {
   "cell_type": "code",
   "execution_count": null,
   "metadata": {},
   "outputs": [],
   "source": [
    "# reading our small amino acid data set\n",
    "# we will discuss pandas in the second week ...\n",
    "aa_df = pd.read_csv(\"../data/amino_acid_properties.csv\")"
   ]
  },
  {
   "cell_type": "code",
   "execution_count": null,
   "metadata": {},
   "outputs": [],
   "source": [
    "aa_df.head()"
   ]
  },
  {
   "cell_type": "markdown",
   "metadata": {},
   "source": [
    "# Bar chart"
   ]
  },
  {
   "cell_type": "code",
   "execution_count": null,
   "metadata": {
    "slideshow": {
     "slide_type": "slide"
    }
   },
   "outputs": [],
   "source": [
    "import plotly.graph_objects as go\n",
    "\n",
    "data = [\n",
    "    go.Bar(\n",
    "        x=aa_df[\"1-letter code\"],\n",
    "        y=aa_df.pka1\n",
    "    )\n",
    "]\n",
    "\n",
    "fig = go.Figure(data=data)\n",
    "fig.show()\n"
   ]
  },
  {
   "cell_type": "markdown",
   "metadata": {},
   "source": [
    "Yes, not looking too nice ..."
   ]
  },
  {
   "cell_type": "code",
   "execution_count": null,
   "metadata": {},
   "outputs": [],
   "source": [
    "fig.update_layout(template=\"seaborn\")\n",
    "fig.show()\n"
   ]
  },
  {
   "cell_type": "markdown",
   "metadata": {},
   "source": [
    "Plotly comes with a set up templates, yet you can customize every bit of it ..."
   ]
  },
  {
   "cell_type": "code",
   "execution_count": null,
   "metadata": {},
   "outputs": [],
   "source": [
    "import plotly.io as pio\n",
    "pio.templates"
   ]
  },
  {
   "cell_type": "code",
   "execution_count": null,
   "metadata": {},
   "outputs": [],
   "source": [
    "import plotly.graph_objects as go\n",
    "\n",
    "data = [\n",
    "    go.Bar(\n",
    "        x=aa_df[\"1-letter code\"],\n",
    "        y=aa_df[\"hydropathy index (Kyte-Doolittle method)\"]\n",
    "    )\n",
    "]\n",
    "\n",
    "fig = go.Figure(data=data)\n",
    "fig.show()\n",
    "\n"
   ]
  },
  {
   "cell_type": "markdown",
   "metadata": {},
   "source": [
    "Let define amino acids based on hydropathy level into three categories\n",
    "* hp < -2 : \"hydrophilic\"\n",
    "* -2 < hp < 2 : \"neutral\"\n",
    "* hp > 2 : \"hydrophobic\""
   ]
  },
  {
   "cell_type": "code",
   "execution_count": null,
   "metadata": {
    "slideshow": {
     "slide_type": "slide"
    }
   },
   "outputs": [],
   "source": [
    "aa_df['hp_type'] = \"neutral\"\n",
    "aa_df.loc[aa_df['hydropathy index (Kyte-Doolittle method)'] < -2, 'hp_type'] = 'hydrophilic'\n",
    "aa_df.loc[aa_df['hydropathy index (Kyte-Doolittle method)'] > 2, 'hp_type'] = 'hydrophobic'"
   ]
  },
  {
   "cell_type": "code",
   "execution_count": null,
   "metadata": {},
   "outputs": [],
   "source": [
    "aa_df"
   ]
  },
  {
   "cell_type": "markdown",
   "metadata": {
    "slideshow": {
     "slide_type": "slide"
    }
   },
   "source": [
    "How to map hp_types to colors?"
   ]
  },
  {
   "cell_type": "code",
   "execution_count": null,
   "metadata": {
    "slideshow": {
     "slide_type": "subslide"
    }
   },
   "outputs": [],
   "source": [
    "aa_df['hp_type'].map({'hydrophilic': \"blue\", 'neutral': \"green\", \"hydrophobic\": \"black\"})"
   ]
  },
  {
   "cell_type": "code",
   "execution_count": null,
   "metadata": {
    "slideshow": {
     "slide_type": "slide"
    }
   },
   "outputs": [],
   "source": [
    "\n",
    "data = [\n",
    "    go.Bar(\n",
    "        x=aa_df[\"1-letter code\"],\n",
    "        y=aa_df[\"hydropathy index (Kyte-Doolittle method)\"],\n",
    "        marker_color=aa_df['hp_type'].map(\n",
    "            {\n",
    "                \"hydrophilic\": \"blue\", \n",
    "                \"neutral\": \"green\", \n",
    "                \"hydrophobic\": \"white\"\n",
    "            }\n",
    "        )\n",
    "    )\n",
    "]\n",
    "\n",
    "fig = go.Figure(data=data)\n",
    "fig.update_layout(template=\"plotly_dark\", title=\"AA hydropathy index\")\n",
    "\n",
    "fig.show()\n",
    "\n"
   ]
  },
  {
   "cell_type": "markdown",
   "metadata": {},
   "source": [
    "Lets add more information to the hovertext!"
   ]
  },
  {
   "cell_type": "code",
   "execution_count": null,
   "metadata": {
    "slideshow": {
     "slide_type": "slide"
    }
   },
   "outputs": [],
   "source": [
    "\n",
    "data = [\n",
    "    go.Bar(\n",
    "        x=aa_df[\"1-letter code\"],\n",
    "        y=aa_df[\"hydropathy index (Kyte-Doolittle method)\"],\n",
    "        marker_color=aa_df['hp_type'].map(\n",
    "            {\n",
    "                \"hydrophilic\": \"blue\", \n",
    "                \"neutral\": \"green\", \n",
    "                \"hydrophobic\": \"white\"\n",
    "            }\n",
    "        ),\n",
    "        text=\"Name:\" + aa_df['Name'] + \"<br />\" +\\\n",
    "            \"Weight:\" + aa_df['Residue Weight'].astype(str) + \"<br />\" +\\\n",
    "            \"Formula:\" + aa_df['Residue Formula']\n",
    "            \n",
    "\n",
    "    )\n",
    "]\n",
    "\n",
    "fig = go.Figure(data=data)\n",
    "fig.update_layout(template=\"plotly_dark\", title=\"AA hydropathy index\")\n",
    "\n",
    "fig.show()\n",
    "\n"
   ]
  },
  {
   "cell_type": "markdown",
   "metadata": {
    "slideshow": {
     "slide_type": "slide"
    }
   },
   "source": [
    "Let's sort and group!"
   ]
  },
  {
   "cell_type": "code",
   "execution_count": null,
   "metadata": {},
   "outputs": [],
   "source": [
    "aa_df.sort_values([\"hydropathy index (Kyte-Doolittle method)\"], inplace=True)"
   ]
  },
  {
   "cell_type": "code",
   "execution_count": null,
   "metadata": {
    "slideshow": {
     "slide_type": "subslide"
    }
   },
   "outputs": [],
   "source": [
    "data = [\n",
    "    go.Bar(\n",
    "        x=aa_df[\"1-letter code\"],\n",
    "        y=aa_df[\"hydropathy index (Kyte-Doolittle method)\"],\n",
    "        marker_color=aa_df['hp_type'].map(\n",
    "            {\n",
    "                \"hydrophilic\": \"blue\", \n",
    "                \"neutral\": \"green\", \n",
    "                \"hydrophobic\": \"white\"\n",
    "            }\n",
    "        ),\n",
    "        text=\"Name:\" + aa_df['Name'] + \"<br />\" +\\\n",
    "            \"Weight:\" + aa_df['Residue Weight'].astype(str) + \"<br />\" +\\\n",
    "            \"Formula:\" + aa_df['Residue Formula']\n",
    "            \n",
    "\n",
    "    )\n",
    "]\n",
    "\n",
    "fig = go.Figure(data=data)\n",
    "fig.update_layout(template=\"plotly_dark\", title=\"AA hydropathy index\")\n",
    "\n",
    "fig.show()\n"
   ]
  },
  {
   "cell_type": "markdown",
   "metadata": {
    "slideshow": {
     "slide_type": "slide"
    }
   },
   "source": [
    "Group data into legendgroups"
   ]
  },
  {
   "cell_type": "code",
   "execution_count": null,
   "metadata": {
    "slideshow": {
     "slide_type": "-"
    }
   },
   "outputs": [],
   "source": [
    "data = []\n",
    "for hp_type in aa_df['hp_type'].unique():\n",
    "    selected_df = aa_df[aa_df['hp_type'] == hp_type]\n",
    "    data.append(\n",
    "        go.Bar(\n",
    "            x=selected_df[\"1-letter code\"],\n",
    "            y=selected_df[\"hydropathy index (Kyte-Doolittle method)\"],\n",
    "            legendgroup=hp_type,\n",
    "            name=hp_type,\n",
    "            \n",
    "        )\n",
    "    )\n",
    "\n",
    "fig = go.Figure(data=data)\n",
    "fig.update_layout(template=\"plotly_dark\", title=\"Amino acid accessible surface\")\n",
    "fig.show()"
   ]
  },
  {
   "cell_type": "markdown",
   "metadata": {
    "slideshow": {
     "slide_type": "slide"
    }
   },
   "source": [
    "## Pie chart"
   ]
  },
  {
   "cell_type": "code",
   "execution_count": null,
   "metadata": {
    "slideshow": {
     "slide_type": "-"
    }
   },
   "outputs": [],
   "source": [
    "import plotly.graph_objects as go\n",
    "\n",
    "data = [\n",
    "    go.Pie(\n",
    "        labels=aa_df[\"1-letter code\"],\n",
    "        values=aa_df[\"Accessible surface\"],\n",
    "        hole=0.3,\n",
    "#         pull=aa_df[\"hydropathy index (Kyte-Doolittle method)\"].abs() / aa_df[\"hydropathy index (Kyte-Doolittle method)\"].max() \n",
    "    )\n",
    "]\n",
    "\n",
    "fig = go.Figure(data=data)\n",
    "fig.update_layout(template=\"plotly_dark\", title=\"Amino acid accessible surface\")\n",
    "fig.show()\n",
    "\n"
   ]
  },
  {
   "cell_type": "markdown",
   "metadata": {
    "slideshow": {
     "slide_type": "slide"
    }
   },
   "source": [
    "# some other styles - encoding more data"
   ]
  },
  {
   "cell_type": "code",
   "execution_count": null,
   "metadata": {
    "slideshow": {
     "slide_type": "-"
    }
   },
   "outputs": [],
   "source": [
    "import numpy as np\n",
    "data = [\n",
    "    go.Scatter(\n",
    "        x=aa_df[\"1-letter code\"],\n",
    "        y=aa_df[\"pI\"],\n",
    "        mode=\"markers\",\n",
    "        marker={\n",
    "            \"size\": aa_df[\"Accessible surface\"],\n",
    "            \"color\":aa_df['hp_type'].map(\n",
    "                {\n",
    "                    \"hydrophilic\": \"blue\", \n",
    "                    \"neutral\": \"green\", \n",
    "                    \"hydrophobic\": \"white\"\n",
    "                }\n",
    "            ),\n",
    "        }\n",
    "    )\n",
    "]\n",
    "\n",
    "fig = go.Figure(data=data)\n",
    "fig.show()"
   ]
  },
  {
   "cell_type": "code",
   "execution_count": null,
   "metadata": {
    "slideshow": {
     "slide_type": "slide"
    }
   },
   "outputs": [],
   "source": [
    "import plotly.graph_objects as go\n",
    "\n",
    "data = [\n",
    "    go.Bar(\n",
    "        x=aa_df[\"1-letter code\"],\n",
    "        y=aa_df.pka1\n",
    "    )\n",
    "]\n",
    "\n",
    "fig = go.Figure(\n",
    "    data=data,\n",
    "    layout={\n",
    "        \"title\": {\n",
    "            \"text\": \"amino acid pka1's\",\n",
    "            \"font_size\": 30\n",
    "        }\n",
    "    }\n",
    ")\n",
    "# fig.show()\n"
   ]
  },
  {
   "cell_type": "code",
   "execution_count": null,
   "metadata": {
    "slideshow": {
     "slide_type": "slide"
    }
   },
   "outputs": [],
   "source": [
    "# works also with dot annotations\n",
    "data = [\n",
    "    go.Bar(\n",
    "        x=aa_df[\"1-letter code\"],\n",
    "        y=aa_df.pka1\n",
    "    ),\n",
    "#     go.Scatter(\n",
    "#         x=aa_df[\"1-letter code\"],\n",
    "#         y=aa_df.pka1\n",
    "#     )\n",
    "]\n",
    "\n",
    "fig = go.Figure(data=data)\n",
    "fig.layout.title.text = \"amino acid pka1's\"\n",
    "fig.layout.title.font.size = 40\n",
    "fig.show()\n",
    "# not quite consistent and api is still evolving"
   ]
  },
  {
   "cell_type": "code",
   "execution_count": null,
   "metadata": {
    "slideshow": {
     "slide_type": "slide"
    }
   },
   "outputs": [],
   "source": [
    "# works also with dot annotations\n",
    "data = [\n",
    "    go.Bar(\n",
    "        x=aa_df[\"1-letter code\"],\n",
    "        y=aa_df.pka1\n",
    "    )\n",
    "]\n",
    "\n",
    "fig = go.Figure(data=data)\n",
    "fig.layout.title.text = \"amino acid pka1's\"\n",
    "fig.layout.title.font.size = 40\n",
    "fig.data[0].marker.line.width = 5\n",
    "fig.data[0].marker.line.color = \"black\"\n",
    "fig.show()\n",
    "# not quite consistent and api is still evolving"
   ]
  },
  {
   "cell_type": "code",
   "execution_count": null,
   "metadata": {
    "slideshow": {
     "slide_type": "slide"
    }
   },
   "outputs": [],
   "source": [
    "# works also with dot annotations\n",
    "data = [\n",
    "    go.Bar(\n",
    "        x=aa_df[\"1-letter code\"],\n",
    "        y=aa_df.pka1,\n",
    "        hovertext=aa_df[\"Name\"]\n",
    "    )\n",
    "]\n",
    "\n",
    "fig = go.Figure(data=data)\n",
    "fig.layout.title.text = \"amino acid pka1's\"\n",
    "fig.layout.title.font.size = 30\n",
    "fig.data[0].marker.line.width = 5\n",
    "fig.data[0].marker.line.color = \"black\"\n",
    "fig.show()\n",
    "# not quite consistent and api is still evolving"
   ]
  },
  {
   "cell_type": "code",
   "execution_count": null,
   "metadata": {
    "slideshow": {
     "slide_type": "slide"
    }
   },
   "outputs": [],
   "source": [
    "# pio.templates.default = \"plotly\"\n",
    "\n",
    "data = [\n",
    "    go.Bar(\n",
    "        x=aa_df[\"1-letter code\"],\n",
    "        y=aa_df.pka1,\n",
    "        hovertext=aa_df[\"Name\"],\n",
    "        name=\"pka1\"\n",
    "    ),\n",
    "    go.Bar(\n",
    "        x=aa_df[\"1-letter code\"],\n",
    "        y=aa_df.pka2,\n",
    "        hovertext=aa_df[\"Name\"],\n",
    "        name=\"pka2\"\n",
    "    ),\n",
    "    go.Bar(\n",
    "        x=aa_df[\"1-letter code\"],\n",
    "        y=aa_df.pkaX,\n",
    "        hovertext=aa_df[\"Name\"],\n",
    "        name=\"pkaX\"\n",
    "    ),\n",
    "    go.Bar(\n",
    "        x=aa_df[\"1-letter code\"],\n",
    "        y=aa_df.pI,\n",
    "        hovertext=aa_df[\"Name\"],\n",
    "        name=\"pI\"\n",
    "    )\n",
    "\n",
    "]"
   ]
  },
  {
   "cell_type": "code",
   "execution_count": null,
   "metadata": {
    "slideshow": {
     "slide_type": "slide"
    }
   },
   "outputs": [],
   "source": [
    "layout = {\n",
    "    \"title\": {\n",
    "        \"text\": \"amino acid pks\",\n",
    "        \"font_family\": \"Courier\",\n",
    "        \"font_size\": 30,\n",
    "    },\n",
    "    \"plot_bgcolor\": \"rgba(0, 0, 0, 0)\",\n",
    "    \"yaxis\": {\n",
    "        \"showgrid\": True,\n",
    "        \"gridwidth\": 1,\n",
    "        \"gridcolor\": \"rgba(0, 0, 0, 0.2)\",\n",
    "        \"color\": \"rgba(0,0,0,1)\",\n",
    "        \"ticks\": \"outside\",\n",
    "        \"tickvals\": [1, 5, 10],\n",
    "        \"title\": {\n",
    "            \"text\": \"pka\",\n",
    "            \"font_family\": \"Courier\",\n",
    "        },\n",
    "        \"showline\": True,\n",
    "        \"linewidth\": 1,\n",
    "        \"linecolor\": \"black\",\n",
    "        \"mirror\": True,\n",
    "#         \"type\": \"log\"\n",
    "    }\n",
    "}\n",
    "\n",
    "fig = go.Figure(data=data, layout=layout)\n",
    "fig.update_xaxes(showline=True, linewidth=1, linecolor=\"black\")\n",
    "fig.show()"
   ]
  },
  {
   "cell_type": "markdown",
   "metadata": {
    "slideshow": {
     "slide_type": "subslide"
    }
   },
   "source": [
    "more details about axis can be found [here](https://plot.ly/python/axes/)\n",
    "\n",
    "Plot examples can be found [here](https://plot.ly/python/)"
   ]
  },
  {
   "cell_type": "markdown",
   "metadata": {},
   "source": [
    "## Questions ?\n",
    "\n",
    "## Let's plot something\n",
    "\n",
    "Anyone go ahead, take the amino_acid_visualization and plot something!"
   ]
  },
  {
   "cell_type": "code",
   "execution_count": null,
   "metadata": {},
   "outputs": [],
   "source": []
  }
 ],
 "metadata": {
  "celltoolbar": "Slideshow",
  "kernelspec": {
   "display_name": "Python 3",
   "language": "python",
   "name": "python3"
  },
  "language_info": {
   "codemirror_mode": {
    "name": "ipython",
    "version": 3
   },
   "file_extension": ".py",
   "mimetype": "text/x-python",
   "name": "python",
   "nbconvert_exporter": "python",
   "pygments_lexer": "ipython3",
   "version": "3.8.5"
  }
 },
 "nbformat": 4,
 "nbformat_minor": 2
}
