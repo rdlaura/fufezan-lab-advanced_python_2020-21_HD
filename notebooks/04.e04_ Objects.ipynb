{
 "cells": [
  {
   "cell_type": "code",
   "execution_count": null,
   "id": "million-advancement",
   "metadata": {},
   "outputs": [],
   "source": [
    "import course;course.header()"
   ]
  },
  {
   "cell_type": "markdown",
   "id": "attractive-tension",
   "metadata": {},
   "source": [
    "# Write a Protein class \n",
    "That contains or can be initialized with different lookups (hydropathy e.g.)"
   ]
  },
  {
   "cell_type": "code",
   "execution_count": null,
   "id": "spatial-toolbox",
   "metadata": {},
   "outputs": [],
   "source": [
    "lookup = {\n",
    "    \"hydropathy\": {\"A\" : \"...\"},\n",
    "    \"pI\": {\"A\": \"...\"},\n",
    "}"
   ]
  },
  {
   "cell_type": "markdown",
   "id": "quick-microwave",
   "metadata": {},
   "source": [
    "## A) has a method `get data`\n",
    "which pulls the sequence from uniprot given an id  "
   ]
  },
  {
   "cell_type": "markdown",
   "id": "coated-instrumentation",
   "metadata": {},
   "source": [
    "## B) has a method `map`\n",
    "which accepts a kwarg specifying which lookup should be used to map the sequence against and return the value list"
   ]
  },
  {
   "cell_type": "markdown",
   "id": "committed-publication",
   "metadata": {},
   "source": [
    "## C) Plot\n",
    "* Plot the hydropathy list using plotly\n",
    "* add title, x-axis names etc"
   ]
  },
  {
   "cell_type": "markdown",
   "id": "ignored-invalid",
   "metadata": {},
   "source": [
    "## D) Sliding window\n",
    "* Extend the method from B) so it returns a value list additionally based on a sliding window\n",
    "* The list values should reflect the average hydropathy value in a sliding window.\n",
    "\n"
   ]
  },
  {
   "cell_type": "markdown",
   "id": "departmental-ethernet",
   "metadata": {},
   "source": [
    "## E) P32249\n",
    "Initialize your class use the id of \"G-protein coupled receptor 183\" - that is \"P32249\"\n",
    "create a plot using hydropathy and a sliding window of 10 using the map method\n"
   ]
  }
 ],
 "metadata": {
  "kernelspec": {
   "display_name": "Python 3",
   "language": "python",
   "name": "python3"
  },
  "language_info": {
   "codemirror_mode": {
    "name": "ipython",
    "version": 3
   },
   "file_extension": ".py",
   "mimetype": "text/x-python",
   "name": "python",
   "nbconvert_exporter": "python",
   "pygments_lexer": "ipython3",
   "version": "3.8.5"
  }
 },
 "nbformat": 4,
 "nbformat_minor": 5
}
