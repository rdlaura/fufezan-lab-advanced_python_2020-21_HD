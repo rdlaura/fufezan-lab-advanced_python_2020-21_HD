{
 "cells": [
  {
   "cell_type": "code",
   "execution_count": 1,
   "id": "detailed-traveler",
   "metadata": {
    "slideshow": {
     "slide_type": "slide"
    }
   },
   "outputs": [
    {
     "ename": "AttributeError",
     "evalue": "module 'pandas' has no attribute 'set_option'",
     "output_type": "error",
     "traceback": [
      "\u001b[1;31m---------------------------------------------------------------------------\u001b[0m",
      "\u001b[1;31mAttributeError\u001b[0m                            Traceback (most recent call last)",
      "\u001b[1;32m<ipython-input-1-b954323288bb>\u001b[0m in \u001b[0;36m<module>\u001b[1;34m\u001b[0m\n\u001b[1;32m----> 1\u001b[1;33m \u001b[1;32mimport\u001b[0m \u001b[0mcourse\u001b[0m\u001b[1;33m;\u001b[0m\u001b[0mcourse\u001b[0m\u001b[1;33m.\u001b[0m\u001b[0mheader\u001b[0m\u001b[1;33m(\u001b[0m\u001b[1;33m)\u001b[0m\u001b[1;33m\u001b[0m\u001b[1;33m\u001b[0m\u001b[0m\n\u001b[0m",
      "\u001b[1;32m~\\PycharmProjects\\fufezan-lab-advanced_python_2020-21_HD_fork\\notebooks\\course.py\u001b[0m in \u001b[0;36m<module>\u001b[1;34m\u001b[0m\n\u001b[0;32m      7\u001b[0m \u001b[1;31m#       maybe in the next advanced course :)\u001b[0m\u001b[1;33m\u001b[0m\u001b[1;33m\u001b[0m\u001b[1;33m\u001b[0m\u001b[0m\n\u001b[0;32m      8\u001b[0m \u001b[1;31m#\u001b[0m\u001b[1;33m\u001b[0m\u001b[1;33m\u001b[0m\u001b[1;33m\u001b[0m\u001b[0m\n\u001b[1;32m----> 9\u001b[1;33m \u001b[0mpd\u001b[0m\u001b[1;33m.\u001b[0m\u001b[0mset_option\u001b[0m\u001b[1;33m(\u001b[0m\u001b[1;34m\"display.max_columns\"\u001b[0m \u001b[1;33m,\u001b[0m \u001b[1;36m300\u001b[0m\u001b[1;33m)\u001b[0m\u001b[1;33m\u001b[0m\u001b[1;33m\u001b[0m\u001b[0m\n\u001b[0m\u001b[0;32m     10\u001b[0m \u001b[1;33m\u001b[0m\u001b[0m\n\u001b[0;32m     11\u001b[0m df_high_level = pd.DataFrame(\n",
      "\u001b[1;31mAttributeError\u001b[0m: module 'pandas' has no attribute 'set_option'"
     ]
    }
   ],
   "source": [
    "import course;course.header()"
   ]
  },
  {
   "cell_type": "markdown",
   "id": "described-genius",
   "metadata": {
    "slideshow": {
     "slide_type": "slide"
    }
   },
   "source": [
    "# The csv module\n",
    "\n",
    "There are several ways to interact with files that contain data in a \"comma separated value\" format.\n",
    "\n",
    "We cover the [basic csv module](https://docs.python.org/3/library/csv.html), as it is sometimes really helpful to retain only a fraction of the information of a csv to avoid memory overflow."
   ]
  },
  {
   "cell_type": "code",
   "execution_count": 2,
   "id": "inclusive-employment",
   "metadata": {},
   "outputs": [
    {
     "ename": "FileNotFoundError",
     "evalue": "[Errno 2] No such file or directory: '../data/amino_acid_properties.csv'",
     "output_type": "error",
     "traceback": [
      "\u001b[1;31m---------------------------------------------------------------------------\u001b[0m",
      "\u001b[1;31mFileNotFoundError\u001b[0m                         Traceback (most recent call last)",
      "\u001b[1;32m<ipython-input-2-b7f155578529>\u001b[0m in \u001b[0;36m<module>\u001b[1;34m\u001b[0m\n\u001b[0;32m      1\u001b[0m \u001b[1;32mimport\u001b[0m \u001b[0mcsv\u001b[0m\u001b[1;33m\u001b[0m\u001b[1;33m\u001b[0m\u001b[0m\n\u001b[0;32m      2\u001b[0m \u001b[1;33m\u001b[0m\u001b[0m\n\u001b[1;32m----> 3\u001b[1;33m \u001b[1;32mwith\u001b[0m \u001b[0mopen\u001b[0m\u001b[1;33m(\u001b[0m\u001b[1;34m\"../data/amino_acid_properties.csv\"\u001b[0m\u001b[1;33m)\u001b[0m \u001b[1;32mas\u001b[0m \u001b[0maap\u001b[0m\u001b[1;33m:\u001b[0m\u001b[1;33m\u001b[0m\u001b[1;33m\u001b[0m\u001b[0m\n\u001b[0m\u001b[0;32m      4\u001b[0m     \u001b[0maap_reader\u001b[0m \u001b[1;33m=\u001b[0m \u001b[0mcsv\u001b[0m\u001b[1;33m.\u001b[0m\u001b[0mDictReader\u001b[0m\u001b[1;33m(\u001b[0m\u001b[0maap\u001b[0m\u001b[1;33m,\u001b[0m \u001b[0mdelimiter\u001b[0m\u001b[1;33m=\u001b[0m\u001b[1;34m\",\"\u001b[0m\u001b[1;33m)\u001b[0m\u001b[1;33m\u001b[0m\u001b[1;33m\u001b[0m\u001b[0m\n\u001b[0;32m      5\u001b[0m     \u001b[1;32mfor\u001b[0m \u001b[0mline_dict\u001b[0m \u001b[1;32min\u001b[0m \u001b[0maap_reader\u001b[0m\u001b[1;33m:\u001b[0m\u001b[1;33m\u001b[0m\u001b[1;33m\u001b[0m\u001b[0m\n",
      "\u001b[1;31mFileNotFoundError\u001b[0m: [Errno 2] No such file or directory: '../data/amino_acid_properties.csv'"
     ]
    }
   ],
   "source": [
    "import csv\n",
    "\n",
    "with open(\"../data/amino_acid_properties.csv\") as aap:\n",
    "    aap_reader = csv.DictReader(aap, delimiter=\",\") \n",
    "    for line_dict in aap_reader:\n",
    "        print(line_dict)\n",
    "        break"
   ]
  },
  {
   "cell_type": "markdown",
   "id": "educated-sender",
   "metadata": {},
   "source": [
    "We can also use the csv module to write csvs, or tab separated value files if we change the delimiter to \"\\t\""
   ]
  },
  {
   "cell_type": "code",
   "execution_count": 3,
   "id": "presidential-aerospace",
   "metadata": {
    "scrolled": true,
    "slideshow": {
     "slide_type": "subslide"
    }
   },
   "outputs": [
    {
     "ename": "FileNotFoundError",
     "evalue": "[Errno 2] No such file or directory: '../data/test.csv'",
     "output_type": "error",
     "traceback": [
      "\u001b[1;31m---------------------------------------------------------------------------\u001b[0m",
      "\u001b[1;31mFileNotFoundError\u001b[0m                         Traceback (most recent call last)",
      "\u001b[1;32m<ipython-input-3-47afa2aa905a>\u001b[0m in \u001b[0;36m<module>\u001b[1;34m\u001b[0m\n\u001b[1;32m----> 1\u001b[1;33m \u001b[1;32mwith\u001b[0m \u001b[0mopen\u001b[0m\u001b[1;33m(\u001b[0m\u001b[1;34m\"../data/test.csv\"\u001b[0m\u001b[1;33m,\u001b[0m \u001b[1;34m\"w\"\u001b[0m\u001b[1;33m)\u001b[0m \u001b[1;32mas\u001b[0m \u001b[0moutput\u001b[0m\u001b[1;33m:\u001b[0m\u001b[1;33m\u001b[0m\u001b[1;33m\u001b[0m\u001b[0m\n\u001b[0m\u001b[0;32m      2\u001b[0m     \u001b[0maap_writer\u001b[0m \u001b[1;33m=\u001b[0m \u001b[0mcsv\u001b[0m\u001b[1;33m.\u001b[0m\u001b[0mDictWriter\u001b[0m\u001b[1;33m(\u001b[0m\u001b[0moutput\u001b[0m\u001b[1;33m,\u001b[0m \u001b[0mfieldnames\u001b[0m\u001b[1;33m=\u001b[0m\u001b[1;33m[\u001b[0m\u001b[1;34m\"Name\"\u001b[0m\u001b[1;33m,\u001b[0m \u001b[1;34m\"3-letter code\"\u001b[0m\u001b[1;33m]\u001b[0m\u001b[1;33m)\u001b[0m \u001b[1;31m#, extrasaction=\"ignore\")\u001b[0m\u001b[1;33m\u001b[0m\u001b[1;33m\u001b[0m\u001b[0m\n\u001b[0;32m      3\u001b[0m     \u001b[0maap_writer\u001b[0m\u001b[1;33m.\u001b[0m\u001b[0mwriteheader\u001b[0m\u001b[1;33m(\u001b[0m\u001b[1;33m)\u001b[0m\u001b[1;33m\u001b[0m\u001b[1;33m\u001b[0m\u001b[0m\n\u001b[0;32m      4\u001b[0m     \u001b[0maap_writer\u001b[0m\u001b[1;33m.\u001b[0m\u001b[0mwriterow\u001b[0m\u001b[1;33m(\u001b[0m\u001b[1;33m{\u001b[0m\u001b[1;34m\"Name\"\u001b[0m\u001b[1;33m:\u001b[0m \u001b[1;34m\"Alanine\"\u001b[0m\u001b[1;33m,\u001b[0m \u001b[1;34m\"3-letter code\"\u001b[0m\u001b[1;33m:\u001b[0m \u001b[1;34m\"Ala\"\u001b[0m\u001b[1;33m,\u001b[0m \u001b[1;34m\"1-letter code\"\u001b[0m\u001b[1;33m:\u001b[0m \u001b[1;34m\"A\"\u001b[0m\u001b[1;33m}\u001b[0m\u001b[1;33m)\u001b[0m\u001b[1;33m\u001b[0m\u001b[1;33m\u001b[0m\u001b[0m\n",
      "\u001b[1;31mFileNotFoundError\u001b[0m: [Errno 2] No such file or directory: '../data/test.csv'"
     ]
    }
   ],
   "source": [
    "with open(\"../data/test.csv\", \"w\") as output:\n",
    "    aap_writer = csv.DictWriter(output, fieldnames=[\"Name\", \"3-letter code\"]) #, extrasaction=\"ignore\")\n",
    "    aap_writer.writeheader()\n",
    "    aap_writer.writerow({\"Name\": \"Alanine\", \"3-letter code\": \"Ala\", \"1-letter code\": \"A\"})"
   ]
  },
  {
   "cell_type": "code",
   "execution_count": 4,
   "id": "first-functionality",
   "metadata": {},
   "outputs": [
    {
     "name": "stderr",
     "output_type": "stream",
     "text": [
      "Der Befehl \"cat\" ist entweder falsch geschrieben oder\n",
      "konnte nicht gefunden werden.\n"
     ]
    }
   ],
   "source": [
    "!cat ../data/test.csv"
   ]
  },
  {
   "cell_type": "code",
   "execution_count": 5,
   "id": "through-intent",
   "metadata": {
    "slideshow": {
     "slide_type": "subslide"
    }
   },
   "outputs": [],
   "source": [
    "# fix it\n",
    "with open(\"c\", \"w\") as output:\n",
    "    aap_writer = csv.DictWriter(output, fieldnames=[\"Name\", \"3-letter code\"], extrasaction='ignore')\n",
    "    aap_writer.writeheader()\n",
    "    aap_writer.writerow({\"Name\": \"Alanine\", \"3-letter code\": \"Ala\", \"1-letter code\": \"A\"})"
   ]
  },
  {
   "cell_type": "markdown",
   "id": "chemical-blast",
   "metadata": {
    "slideshow": {
     "slide_type": "slide"
    }
   },
   "source": [
    "# Collections - high performance containers ... sorta"
   ]
  },
  {
   "cell_type": "markdown",
   "id": "indirect-turtle",
   "metadata": {
    "slideshow": {
     "slide_type": "-"
    }
   },
   "source": [
    "## [collections.Counter](https://docs.python.org/3.7/library/collections.html#counter-objects)\n",
    "A counter tool is provided to support convenient and rapid tallies. For example"
   ]
  },
  {
   "cell_type": "code",
   "execution_count": 6,
   "id": "simplified-hearts",
   "metadata": {},
   "outputs": [
    {
     "data": {
      "text/plain": [
       "Counter({'\\n': 7,\n",
       "         'M': 8,\n",
       "         'Q': 14,\n",
       "         'R': 20,\n",
       "         'L': 24,\n",
       "         'A': 29,\n",
       "         'T': 28,\n",
       "         'S': 23,\n",
       "         'G': 20,\n",
       "         'C': 1,\n",
       "         'V': 31,\n",
       "         'N': 16,\n",
       "         'P': 17,\n",
       "         'D': 28,\n",
       "         'H': 10,\n",
       "         'K': 18,\n",
       "         'W': 3,\n",
       "         'I': 23,\n",
       "         'E': 21,\n",
       "         'Y': 13,\n",
       "         'F': 13,\n",
       "         ' ': 1})"
      ]
     },
     "execution_count": 6,
     "metadata": {},
     "output_type": "execute_result"
    }
   ],
   "source": [
    "from collections import Counter\n",
    "s = \"\"\"\n",
    "MQRLMMLLATSGACLGLLAVAAVAAAGANPAQRDTHSLLPTHRRQKRDWIWNQMHIDEEK\n",
    "NTSLPHHVGKIKSSVSRKNAKYLLKGEYVGKVFRVDAETGDVFAIERLDRENISEYHLTA\n",
    "VIVDKDTGENLETPSSFTIKVHDVNDNWPVFTHRLFNASVPESSAVGTSVISVTAVDADD\n",
    "PTVGDHASVMYQILKGKEYFAIDNSGRIITITKSLDREKQARYEIVVEARDAQGLRGDSG\n",
    "TATVLVTLQDINDNFPFFTQTKYTFVVPEDTRVGTSVGSLFVEDPDEPQNRMTKYSILRG\n",
    "DYQDAFTIETNPAHNEGIIKPMKPLDYEYIQQYSFIVEATDPTIDL RYMSPPAGNRAQVI\n",
    "\"\"\"\n",
    "Counter(s)"
   ]
  },
  {
   "cell_type": "code",
   "execution_count": null,
   "id": "fleet-spirituality",
   "metadata": {
    "slideshow": {
     "slide_type": "subslide"
    }
   },
   "outputs": [],
   "source": [
    "# Counter objects can be added together\n",
    "Counter(\"AABB\") + Counter(\"BBCC\")"
   ]
  },
  {
   "cell_type": "code",
   "execution_count": 7,
   "id": "quarterly-reviewer",
   "metadata": {
    "scrolled": true
   },
   "outputs": [
    {
     "data": {
      "text/plain": [
       "Counter({(1, 1): 2, (1, 2): 1, (2, 1): 1})"
      ]
     },
     "execution_count": 7,
     "metadata": {},
     "output_type": "execute_result"
    }
   ],
   "source": [
    "# Works with any type of object that are comparable\n",
    "Counter([(1, 1), (1, 2), (2, 1), (1, 1)])"
   ]
  },
  {
   "cell_type": "markdown",
   "id": "thorough-credits",
   "metadata": {
    "slideshow": {
     "slide_type": "slide"
    }
   },
   "source": [
    "## [collections.deque](https://docs.python.org/3.7/library/collections.html#deque-objects)\n",
    "Deque \\[deck\\] or double-ended queue can be used for many tasks, e.g. building a sliding window"
   ]
  },
  {
   "cell_type": "code",
   "execution_count": 9,
   "id": "nervous-template",
   "metadata": {},
   "outputs": [],
   "source": [
    "from collections import deque\n",
    "s = \"\"\"MQRLMMLLATSGACLGLLAVAAVAAAGANPAQRDTHSLLPTHRRQKRDWIWNQMHIDEEKNTSLPHHVGKIKSSVSRKNAKYLLKGEYVGKVFRVDAETGDVFAIERLDRENISEYHLTA\"\"\"\n",
    "window = deque([], maxlen=5)"
   ]
  },
  {
   "cell_type": "code",
   "execution_count": null,
   "id": "criminal-spare",
   "metadata": {},
   "outputs": [],
   "source": [
    "for pos, aa in enumerate(s):\n",
    "    window.append(aa)\n",
    "    print(window)\n",
    "    if pos > 7:\n",
    "        break"
   ]
  },
  {
   "cell_type": "code",
   "execution_count": null,
   "id": "acoustic-worcester",
   "metadata": {},
   "outputs": [],
   "source": [
    "Counter(window)"
   ]
  },
  {
   "cell_type": "markdown",
   "id": "civilian-profit",
   "metadata": {
    "slideshow": {
     "slide_type": "slide"
    }
   },
   "source": [
    "## [collections.defaultdicts](https://docs.python.org/3.7/library/collections.html#defaultdict-objects)\n",
    "Defaultdicts are like dicts yet they treat missing values not with an error, thus testing if key exists is not neccessary and makes life easier :) Ofcourse, one needs to define the default value that is taken if a key is not existent. \n",
    "\n",
    "I use it a lot for counting \n",
    "```python\n",
    "counter[\"error\"] += 1\n",
    "```\n",
    "or collecting elements in lists\n",
    "```python\n",
    "sorter[\"typeA\"].append({\"name\": \"John\"})\n",
    "```"
   ]
  },
  {
   "cell_type": "code",
   "execution_count": null,
   "id": "southeast-federal",
   "metadata": {},
   "outputs": [],
   "source": [
    "from collections import defaultdict\n",
    "\n",
    "ddict_int = defaultdict(int)\n",
    "#                        ^---- default factory\n",
    "ddict_list = defaultdict(list)"
   ]
  },
  {
   "cell_type": "code",
   "execution_count": null,
   "id": "modified-ivory",
   "metadata": {},
   "outputs": [],
   "source": [
    "ddict_int[10] += 10\n",
    "ddict_int"
   ]
  },
  {
   "cell_type": "code",
   "execution_count": null,
   "id": "recognized-journey",
   "metadata": {},
   "outputs": [],
   "source": []
  },
  {
   "cell_type": "code",
   "execution_count": null,
   "id": "subsequent-screw",
   "metadata": {},
   "outputs": [],
   "source": [
    "ddict_int[0]"
   ]
  },
  {
   "cell_type": "code",
   "execution_count": null,
   "id": "organized-theorem",
   "metadata": {},
   "outputs": [],
   "source": [
    "def default_factory_with_prefilled_dictionary():\n",
    "    return {\"__name\": \"our custom dict\", \"errors\": 0}\n",
    "ddict_custom = defaultdict(default_factory_with_prefilled_dictionary)\n"
   ]
  },
  {
   "cell_type": "code",
   "execution_count": null,
   "id": "interior-phenomenon",
   "metadata": {},
   "outputs": [],
   "source": [
    "ddict_custom[10] += 10"
   ]
  },
  {
   "cell_type": "code",
   "execution_count": null,
   "id": "proper-lucas",
   "metadata": {},
   "outputs": [],
   "source": [
    "ddict_custom[\"what_ever_key\"]"
   ]
  },
  {
   "cell_type": "code",
   "execution_count": null,
   "id": "biblical-eligibility",
   "metadata": {},
   "outputs": [],
   "source": [
    "ddict_custom[10]['errors'] += 10"
   ]
  },
  {
   "cell_type": "code",
   "execution_count": null,
   "id": "stylish-energy",
   "metadata": {},
   "outputs": [],
   "source": [
    "ddict_custom"
   ]
  },
  {
   "cell_type": "code",
   "execution_count": null,
   "id": "awful-heath",
   "metadata": {},
   "outputs": [],
   "source": []
  }
 ],
 "metadata": {
  "celltoolbar": "Slideshow",
  "kernelspec": {
   "display_name": "Python 3",
   "language": "python",
   "name": "python3"
  },
  "language_info": {
   "codemirror_mode": {
    "name": "ipython",
    "version": 3
   },
   "file_extension": ".py",
   "mimetype": "text/x-python",
   "name": "python",
   "nbconvert_exporter": "python",
   "pygments_lexer": "ipython3",
   "version": "3.9.1"
  }
 },
 "nbformat": 4,
 "nbformat_minor": 5
}
