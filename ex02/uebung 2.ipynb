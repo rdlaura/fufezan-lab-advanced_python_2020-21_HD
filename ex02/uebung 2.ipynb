{
 "cells": [
  {
   "cell_type": "markdown",
   "id": "tropical-cutting",
   "metadata": {},
   "source": [
    "Übung 02-02-2021"
   ]
  },
  {
   "cell_type": "code",
   "execution_count": 1,
   "id": "brazilian-region",
   "metadata": {},
   "outputs": [],
   "source": [
    "import csv\n",
    "from collections import Counter\n",
    "import matplotlib.pyplot as plt"
   ]
  },
  {
   "cell_type": "markdown",
   "id": "liked-trust",
   "metadata": {},
   "source": [
    "Homo sapiens"
   ]
  },
  {
   "cell_type": "code",
   "execution_count": 2,
   "id": "dress-model",
   "metadata": {
    "scrolled": true
   },
   "outputs": [
    {
     "name": "stdout",
     "output_type": "stream",
     "text": [
      "Counter({'L': 1132287, 'S': 946500, 'E': 807047, 'A': 796924, 'G': 747025, 'P': 717708, 'V': 677882, 'K': 651378, 'R': 640576, 'T': 608124, 'Q': 541905, 'D': 538336, 'I': 492971, 'F': 414781, 'N': 407941, 'Y': 302772, 'H': 297988, 'C': 261524, 'M': 242334, 'W': 138182, 'U': 36})\n"
     ]
    }
   ],
   "source": [
    "with open(\"../data/uniprot-homo-sapiens.fasta\") as homo_sapiens:\n",
    "    sq = \"\"\n",
    "    for line in homo_sapiens:\n",
    "        if not line.startswith(\">\"):\n",
    "            sq += line.replace(\"\\n\", \"\")\n",
    "\n",
    "C = Counter(sq)\n",
    "print(C)"
   ]
  },
  {
   "cell_type": "code",
   "execution_count": 3,
   "id": "joint-interference",
   "metadata": {
    "scrolled": true
   },
   "outputs": [
    {
     "data": {
      "image/png": "[encoded data removed]",
      "text/plain": [
       "<Figure size 432x288 with 1 Axes>"
      ]
     },
     "metadata": {
      "needs_background": "light"
     },
     "output_type": "display_data"
    }
   ],
   "source": [
    "plt.bar(list(C.keys()), list(C.values()))\n",
    "\n",
    "plt.xlabel(\"amino acids\")\n",
    "plt.ylabel(\"counts\")\n",
    "plt.title(\"Histogram of Amino Acid Counts in Homo Sapiens\")\n",
    "\n",
    "#plt.show()\n",
    "plt.savefig(\"homo_sapiens.pdf\")"
   ]
  },
  {
   "cell_type": "markdown",
   "id": "accomplished-shopping",
   "metadata": {
    "pycharm": {
     "name": "#%%\n"
    }
   },
   "source": [
    "with open(\"../data/human.csv\", \"w\") as output:\n",
    "    wrtr = csv.DictWriter(output, fieldnames=[\"aa\", \" count\"]) #, delimiter=\",\") #does not seem to make a diff\n",
    "    wrtr.writeheader()\n",
    "    for key, value in C.items():\n",
    "        wrtr.writerow({\"aa\": key, \" count\": \" \"+str(value)})"
   ]
  },
  {
   "cell_type": "code",
   "execution_count": 22,
   "id": "swiss-latex",
   "metadata": {
    "pycharm": {
     "name": "#%%\n"
    }
   },
   "outputs": [],
   "source": [
    "with open(\"../data/human.csv\", \"w\") as output:\n",
    "    wrtr = csv.DictWriter(output, fieldnames=[\"aa\", \"count\"])\n",
    "    wrtr.writeheader()\n",
    "    for key, value in C.items():\n",
    "        wrtr.writerow({\"aa\": key, \"count\": value})"
   ]
  },
  {
   "cell_type": "code",
   "execution_count": null,
   "id": "central-freight",
   "metadata": {},
   "outputs": [],
   "source": [
    "Bacteria"
   ]
  },
  {
   "cell_type": "markdown",
   "id": "advised-feeding",
   "metadata": {
    "pycharm": {
     "name": "#%% md\n"
    }
   },
   "source": [
    "Bacteria"
   ]
  },
  {
   "cell_type": "code",
   "execution_count": 23,
   "id": "functioning-helmet",
   "metadata": {
    "pycharm": {
     "name": "#%%\n"
    }
   },
   "outputs": [
    {
     "name": "stdout",
     "output_type": "stream",
     "text": [
      "Counter({'L': 147717, 'A': 131559, 'G': 102054, 'V': 97894, 'I': 83270, 'S': 80983, 'E': 79908, 'R': 77007, 'T': 74892, 'D': 71426, 'Q': 61664, 'K': 61306, 'P': 61282, 'N': 54951, 'F': 53986, 'Y': 39547, 'M': 39237, 'H': 31442, 'W': 21264, 'C': 16218, 'X': 8, 'U': 3})\n"
     ]
    }
   ],
   "source": [
    "with open(\"../data/uniprot-e-coli.fasta\") as e_coli:\n",
    "    sq = \"\"\n",
    "    for line in e_coli:\n",
    "        if not line.startswith(\">\"):\n",
    "            sq += line.replace(\"\\n\", \"\")\n",
    "\n",
    "C = Counter(sq)\n",
    "print(C)"
   ]
  },
  {
   "cell_type": "code",
   "execution_count": 24,
   "id": "iraqi-background",
   "metadata": {},
   "outputs": [
    {
     "data": {
      "image/png": "[encoded data removed]",
      "text/plain": [
       "<Figure size 432x288 with 1 Axes>"
      ]
     },
     "metadata": {
      "needs_background": "light"
     },
     "output_type": "display_data"
    }
   ],
   "source": [
    "plt.bar(list(C.keys()), list(C.values()))\n",
    "\n",
    "plt.xlabel(\"amino acids\")\n",
    "plt.ylabel(\"counts\")\n",
    "plt.title(\"Histogram of Amino Acid Counts in Escherichia coli\")\n",
    "\n",
    "#plt.show()\n",
    "plt.savefig(\"e_coli.pdf\")"
   ]
  },
  {
   "cell_type": "code",
   "execution_count": 25,
   "id": "sitting-blood",
   "metadata": {},
   "outputs": [],
   "source": [
    "with open(\"../data/ecoli.csv\", \"w\") as output:\n",
    "    wrtr = csv.DictWriter(output, fieldnames=[\"aa\", \"count\"])\n",
    "    wrtr.writeheader()\n",
    "    for key, value in C.items():\n",
    "        wrtr.writerow({\"aa\": key, \"count\": value})"
   ]
  },
  {
   "cell_type": "markdown",
   "id": "actual-indianapolis",
   "metadata": {},
   "source": [
    "Rat"
   ]
  },
  {
   "cell_type": "code",
   "execution_count": 26,
   "id": "intended-terminal",
   "metadata": {},
   "outputs": [
    {
     "name": "stdout",
     "output_type": "stream",
     "text": [
      "Counter({'L': 417407, 'S': 333581, 'A': 291544, 'E': 287541, 'G': 273110, 'V': 262169, 'P': 245929, 'K': 234538, 'R': 231680, 'T': 222308, 'D': 205877, 'Q': 188583, 'I': 188487, 'F': 160206, 'N': 150735, 'Y': 116594, 'H': 102712, 'M': 93837, 'C': 89507, 'W': 52687, 'X': 52, 'U': 26, 'Z': 4})\n"
     ]
    }
   ],
   "source": [
    "with open(\"../data/uniprot-rattus-norvegicus.fasta\") as rattus_norvegicus:\n",
    "    sq = \"\"\n",
    "    for line in rattus_norvegicus:\n",
    "        if not line.startswith(\">\"):\n",
    "            sq += line.replace(\"\\n\", \"\")\n",
    "\n",
    "C = Counter(sq)\n",
    "print(C)"
   ]
  },
  {
   "cell_type": "code",
   "execution_count": 27,
   "id": "resident-combine",
   "metadata": {},
   "outputs": [
    {
     "data": {
      "image/png": "[encoded data removed]",
      "text/plain": [
       "<Figure size 432x288 with 1 Axes>"
      ]
     },
     "metadata": {
      "needs_background": "light"
     },
     "output_type": "display_data"
    }
   ],
   "source": [
    "plt.bar(list(C.keys()), list(C.values()))\n",
    "\n",
    "plt.xlabel(\"amino acids\")\n",
    "plt.ylabel(\"counts\")\n",
    "plt.title(\"Histogram of Amino Acid Counts in Rat\")\n",
    "\n",
    "#plt.show()\n",
    "plt.savefig(\"rattus_norvegicus.pdf\")"
   ]
  },
  {
   "cell_type": "code",
   "execution_count": 28,
   "id": "intense-ladder",
   "metadata": {
    "pycharm": {
     "name": "#%%\n"
    }
   },
   "outputs": [],
   "source": [
    "with open(\"../data/rat.csv\", \"w\") as output:\n",
    "    wrtr = csv.DictWriter(output, fieldnames=[\"aa\", \"count\"])\n",
    "    wrtr.writeheader()\n",
    "    for key, value in C.items():\n",
    "        wrtr.writerow({\"aa\": key, \"count\": value})"
   ]
  },
  {
   "cell_type": "markdown",
   "id": "encouraging-aspect",
   "metadata": {
    "pycharm": {
     "name": "#%% md\n"
    }
   },
   "source": [
    "Arabidopsis thaliana"
   ]
  },
  {
   "cell_type": "code",
   "execution_count": 29,
   "id": "technical-furniture",
   "metadata": {},
   "outputs": [
    {
     "name": "stdout",
     "output_type": "stream",
     "text": [
      "Counter({'L': 703610, 'S': 644523, 'V': 492755, 'E': 479522, 'G': 478193, 'A': 471487, 'K': 454371, 'I': 395787, 'D': 388487, 'R': 385060, 'T': 373391, 'P': 344395, 'N': 321642, 'F': 317427, 'Q': 252628, 'Y': 211634, 'M': 182163, 'H': 161845, 'C': 131723, 'W': 91479, 'X': 3})\n"
     ]
    }
   ],
   "source": [
    "with open(\"../data/uniprot-arabidopsis-thaliana.fasta\") as a_thaliana:\n",
    "    sq = \"\"\n",
    "    for line in a_thaliana:\n",
    "        if not line.startswith(\">\"):\n",
    "            sq += line.replace(\"\\n\", \"\")\n",
    "\n",
    "C = Counter(sq)\n",
    "print(C)"
   ]
  },
  {
   "cell_type": "code",
   "execution_count": null,
   "outputs": [],
   "source": [
    "plt.bar(list(C.keys()), list(C.values()))\n",
    "\n",
    "plt.xlabel(\"amino acids\")\n",
    "plt.ylabel(\"counts\")\n",
    "plt.title(\"Histogram of Amino Acid Counts in Arabidopsis thaliana\")\n",
    "\n",
    "#plt.show()\n",
    "plt.savefig(\"a_thaliana.pdf\")"
   ],
   "metadata": {
    "collapsed": false,
    "pycharm": {
     "name": "#%%\n"
    }
   }
  },
  {
   "cell_type": "code",
   "execution_count": null,
   "outputs": [],
   "source": [
    "with open(\"../data/thaliana.csv\", \"w\") as output:\n",
    "    wrtr = csv.DictWriter(output, fieldnames=[\"aa\", \"count\"])\n",
    "    wrtr.writeheader()\n",
    "    for key, value in C.items():\n",
    "        wrtr.writerow({\"aa\": key, \"count\": value})"
   ],
   "metadata": {
    "collapsed": false,
    "pycharm": {
     "name": "#%%\n"
    }
   }
  },
  {
   "cell_type": "markdown",
   "source": [
    "Archea"
   ],
   "metadata": {
    "collapsed": false
   }
  },
  {
   "cell_type": "code",
   "execution_count": null,
   "outputs": [],
   "source": [
    "with open(\"../data/uniprot-lemna-minor.fasta\") as lemma_minor:\n",
    "    sq = \"\"\n",
    "    for line in lemma_minor:\n",
    "        if not line.startswith(\">\"):\n",
    "            sq += line.replace(\"\\n\", \"\")\n",
    "\n",
    "C = Counter(sq)\n",
    "print(C)"
   ],
   "metadata": {
    "collapsed": false,
    "pycharm": {
     "name": "#%%\n"
    }
   }
  },
  {
   "cell_type": "code",
   "execution_count": null,
   "outputs": [],
   "source": [
    "plt.bar(list(C.keys()), list(C.values()))\n",
    "\n",
    "plt.xlabel(\"amino acids\")\n",
    "plt.ylabel(\"counts\")\n",
    "plt.title(\"Histogram of Amino Acid Counts in Lemna minor\")\n",
    "\n",
    "#plt.show()\n",
    "plt.savefig(\"lemna_minor.pdf\")"
   ],
   "metadata": {
    "collapsed": false,
    "pycharm": {
     "name": "#%%\n"
    }
   }
  },
  {
   "cell_type": "code",
   "execution_count": null,
   "outputs": [],
   "source": [
    "with open(\"../data/lemnaminor.csv\", \"w\") as output:\n",
    "    wrtr = csv.DictWriter(output, fieldnames=[\"aa\", \"count\"])\n",
    "    wrtr.writeheader()\n",
    "    for key, value in C.items():\n",
    "        wrtr.writerow({\"aa\": key, \"count\": value})"
   ],
   "metadata": {
    "collapsed": false,
    "pycharm": {
     "name": "#%%\n"
    }
   }
  },
  {
   "cell_type": "code",
   "execution_count": 30,
   "id": "wicked-elizabeth",
   "metadata": {},
   "outputs": [
    {
     "data": {
      "image/png": "[encoded data removed]",
      "text/plain": [
       "<Figure size 432x288 with 1 Axes>"
      ]
     },
     "metadata": {
      "needs_background": "light"
     },
     "output_type": "display_data"
    }
   ],
   "source": []
  },
  {
   "cell_type": "code",
   "execution_count": 31,
   "id": "vulnerable-repair",
   "metadata": {},
   "outputs": [],
   "source": [
    "with open(\"../data/thaliana.csv\", \"w\") as output:\n",
    "    wrtr = csv.DictWriter(output, fieldnames=[\"aa\", \"count\"])\n",
    "    wrtr.writeheader()\n",
    "    for key, value in C.items():\n",
    "        wrtr.writerow({\"aa\": key, \"count\": value})"
   ]
  },
  {
   "cell_type": "markdown",
   "id": "sophisticated-future",
   "metadata": {},
   "source": [
    "Archea"
   ]
  },
  {
   "cell_type": "code",
   "execution_count": 32,
   "id": "religious-trainer",
   "metadata": {},
   "outputs": [
    {
     "name": "stdout",
     "output_type": "stream",
     "text": [
      "Counter({'L': 1950, 'I': 1560, 'S': 1439, 'G': 1266, 'R': 1098, 'F': 1059, 'E': 1031, 'V': 1026, 'A': 996, 'K': 991, 'T': 937, 'N': 914, 'D': 774, 'P': 752, 'Y': 704, 'Q': 668, 'M': 431, 'H': 407, 'W': 298, 'C': 211})\n"
     ]
    }
   ],
   "source": [
    "with open(\"../data/uniprot-lemna-minor.fasta\") as lemma_minor:\n",
    "    sq = \"\"\n",
    "    for line in lemma_minor:\n",
    "        if not line.startswith(\">\"):\n",
    "            sq += line.replace(\"\\n\", \"\")\n",
    "\n",
    "C = Counter(sq)\n",
    "print(C)"
   ]
  },
  {
   "cell_type": "code",
   "execution_count": 33,
   "id": "norwegian-special",
   "metadata": {
    "scrolled": false
   },
   "outputs": [
    {
     "data": {
      "image/png": "[encoded data removed]",
      "text/plain": [
       "<Figure size 432x288 with 1 Axes>"
      ]
     },
     "metadata": {
      "needs_background": "light"
     },
     "output_type": "display_data"
    }
   ],
   "source": [
    "plt.bar(list(C.keys()), list(C.values()))\n",
    "\n",
    "plt.xlabel(\"amino acids\")\n",
    "plt.ylabel(\"counts\")\n",
    "plt.title(\"Histogram of Amino Acid Counts in Lemna minor\")\n",
    "\n",
    "#plt.show()\n",
    "plt.savefig(\"lemna_minor.pdf\")"
   ]
  },
  {
   "cell_type": "code",
   "execution_count": 34,
   "id": "seventh-frederick",
   "metadata": {},
   "outputs": [],
   "source": [
    "with open(\"../data/lemnaminor.csv\", \"w\") as output:\n",
    "    wrtr = csv.DictWriter(output, fieldnames=[\"aa\", \"count\"])\n",
    "    wrtr.writeheader()\n",
    "    for key, value in C.items():\n",
    "        wrtr.writerow({\"aa\": key, \"count\": value})"
   ]
  },
  {
   "cell_type": "code",
   "execution_count": null,
   "id": "amazing-plate",
   "metadata": {},
   "outputs": [],
   "source": []
  }
 ],
 "metadata": {
  "kernelspec": {
   "display_name": "Python 3",
   "language": "python",
   "name": "python3"
  },
  "language_info": {
   "codemirror_mode": {
    "name": "ipython",
    "version": 3
   },
   "file_extension": ".py",
   "mimetype": "text/x-python",
   "name": "python",
   "nbconvert_exporter": "python",
   "pygments_lexer": "ipython3",
   "version": "3.9.1"
  }
 },
 "nbformat": 4,
 "nbformat_minor": 5
}